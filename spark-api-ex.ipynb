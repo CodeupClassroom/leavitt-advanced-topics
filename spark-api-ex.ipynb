{
 "cells": [
  {
   "cell_type": "markdown",
   "id": "d7d5e365-a348-4d71-b126-50c8ba39d4b8",
   "metadata": {},
   "source": [
    "## Exercises\n",
    "\n",
    "Using the [repo setup directions](https://ds.codeup.com/fundamentals/git/), setup a new local and remote repository named `spark-exercises`. The local version of your repo should live inside of `~/codeup-data-science`. This repo should be named `spark-exercises`\n",
    "\n",
    "Save this work in your `spark-exercises` repo. Then add, commit, and push your changes.\n",
    "\n",
    "Create a jupyter notebook or python script named `spark101` for this exercise."
   ]
  },
  {
   "cell_type": "code",
   "execution_count": 1,
   "id": "1d5ad6c2-cf12-4713-b0a7-4f1f9fb2af40",
   "metadata": {},
   "outputs": [],
   "source": [
    "import pandas as pd\n",
    "import numpy as np\n",
    "import pyspark"
   ]
  },
  {
   "cell_type": "markdown",
   "id": "8565e491-8132-4755-b633-34dd436f26c9",
   "metadata": {},
   "source": [
    "1. Create a spark data frame that contains your favorite programming languages."
   ]
  },
  {
   "cell_type": "code",
   "execution_count": 2,
   "id": "6229275e-2213-491b-883e-4ed009156630",
   "metadata": {},
   "outputs": [],
   "source": [
    "import pyspark.sql.functions as F"
   ]
  },
  {
   "cell_type": "code",
   "execution_count": 3,
   "id": "b83e1f4c-9709-4204-bf69-8ffe84bb3cc4",
   "metadata": {},
   "outputs": [],
   "source": [
    "spark = pyspark.sql.SparkSession.builder.getOrCreate()"
   ]
  },
  {
   "cell_type": "code",
   "execution_count": 4,
   "id": "61b8c7f3-bb04-4e7b-8f2f-e27dc4ba8309",
   "metadata": {},
   "outputs": [],
   "source": [
    "pd_df = pd.DataFrame({'language': ['python', 'r',\n",
    " 'scala', 'java', 'c', 'c++']})"
   ]
  },
  {
   "cell_type": "code",
   "execution_count": 5,
   "id": "5ca28b01-a529-4258-b9d2-78f79b5064ad",
   "metadata": {},
   "outputs": [
    {
     "data": {
      "text/html": [
       "<div>\n",
       "<style scoped>\n",
       "    .dataframe tbody tr th:only-of-type {\n",
       "        vertical-align: middle;\n",
       "    }\n",
       "\n",
       "    .dataframe tbody tr th {\n",
       "        vertical-align: top;\n",
       "    }\n",
       "\n",
       "    .dataframe thead th {\n",
       "        text-align: right;\n",
       "    }\n",
       "</style>\n",
       "<table border=\"1\" class=\"dataframe\">\n",
       "  <thead>\n",
       "    <tr style=\"text-align: right;\">\n",
       "      <th></th>\n",
       "      <th>language</th>\n",
       "    </tr>\n",
       "  </thead>\n",
       "  <tbody>\n",
       "    <tr>\n",
       "      <th>0</th>\n",
       "      <td>python</td>\n",
       "    </tr>\n",
       "    <tr>\n",
       "      <th>1</th>\n",
       "      <td>r</td>\n",
       "    </tr>\n",
       "    <tr>\n",
       "      <th>2</th>\n",
       "      <td>scala</td>\n",
       "    </tr>\n",
       "    <tr>\n",
       "      <th>3</th>\n",
       "      <td>java</td>\n",
       "    </tr>\n",
       "    <tr>\n",
       "      <th>4</th>\n",
       "      <td>c</td>\n",
       "    </tr>\n",
       "    <tr>\n",
       "      <th>5</th>\n",
       "      <td>c++</td>\n",
       "    </tr>\n",
       "  </tbody>\n",
       "</table>\n",
       "</div>"
      ],
      "text/plain": [
       "  language\n",
       "0   python\n",
       "1        r\n",
       "2    scala\n",
       "3     java\n",
       "4        c\n",
       "5      c++"
      ]
     },
     "execution_count": 5,
     "metadata": {},
     "output_type": "execute_result"
    }
   ],
   "source": [
    "pd_df"
   ]
  },
  {
   "cell_type": "markdown",
   "id": "1fe23ccb-75a0-43a3-b663-f54f45c45337",
   "metadata": {},
   "source": [
    "    - The name of the column should be `language`\n",
    "    "
   ]
  },
  {
   "cell_type": "code",
   "execution_count": 6,
   "id": "9ebb26f3-95a9-46f1-a75e-2c71bf83f110",
   "metadata": {},
   "outputs": [],
   "source": [
    "df = spark.createDataFrame(pd_df)"
   ]
  },
  {
   "cell_type": "code",
   "execution_count": 7,
   "id": "bb4cae01-a4bb-4408-849b-62c6145eabb8",
   "metadata": {},
   "outputs": [
    {
     "name": "stdout",
     "output_type": "stream",
     "text": [
      "+--------+\n",
      "|language|\n",
      "+--------+\n",
      "|  python|\n",
      "|       r|\n",
      "|   scala|\n",
      "|    java|\n",
      "|       c|\n",
      "|     c++|\n",
      "+--------+\n",
      "\n"
     ]
    }
   ],
   "source": [
    "df.show()"
   ]
  },
  {
   "cell_type": "markdown",
   "id": "f4c0d59e-cbca-4821-9e36-044326341fb3",
   "metadata": {},
   "source": [
    "    - View the schema of the dataframe"
   ]
  },
  {
   "cell_type": "code",
   "execution_count": 8,
   "id": "c91a9673-bad9-4a66-bbeb-8c4ef38fd272",
   "metadata": {},
   "outputs": [
    {
     "data": {
      "text/plain": [
       "StructType([StructField('language', StringType(), True)])"
      ]
     },
     "execution_count": 8,
     "metadata": {},
     "output_type": "execute_result"
    }
   ],
   "source": [
    "df.schema"
   ]
  },
  {
   "cell_type": "markdown",
   "id": "0337825c-1884-4d7c-91e3-012ac97fd016",
   "metadata": {},
   "source": [
    "    - Output the shape of the dataframe"
   ]
  },
  {
   "cell_type": "code",
   "execution_count": 9,
   "id": "018601d7-7bbd-44b0-a5e4-7e4f6f602aee",
   "metadata": {},
   "outputs": [
    {
     "data": {
      "text/plain": [
       "(6, 1)"
      ]
     },
     "execution_count": 9,
     "metadata": {},
     "output_type": "execute_result"
    }
   ],
   "source": [
    "df.count(), len(df.columns)"
   ]
  },
  {
   "cell_type": "code",
   "execution_count": 10,
   "id": "15da5098-e70c-46c2-b732-20e3b8b2cf39",
   "metadata": {},
   "outputs": [
    {
     "name": "stdout",
     "output_type": "stream",
     "text": [
      "+-------+--------+\n",
      "|summary|language|\n",
      "+-------+--------+\n",
      "|  count|       6|\n",
      "|   mean|    null|\n",
      "| stddev|    null|\n",
      "|    min|       c|\n",
      "|    max|   scala|\n",
      "+-------+--------+\n",
      "\n"
     ]
    }
   ],
   "source": [
    "df.describe().show()"
   ]
  },
  {
   "cell_type": "markdown",
   "id": "bb11c98d-2ed5-4d9d-870e-98be6199a360",
   "metadata": {},
   "source": [
    "     - Show the first 5 records in the dataframe"
   ]
  },
  {
   "cell_type": "code",
   "execution_count": 11,
   "id": "bdb5f98f-30af-4c89-b35b-7a7a089e7dc0",
   "metadata": {},
   "outputs": [
    {
     "name": "stdout",
     "output_type": "stream",
     "text": [
      "+--------+\n",
      "|language|\n",
      "+--------+\n",
      "|  python|\n",
      "|       r|\n",
      "|   scala|\n",
      "|    java|\n",
      "|       c|\n",
      "+--------+\n",
      "only showing top 5 rows\n",
      "\n"
     ]
    }
   ],
   "source": [
    "df.show(5)"
   ]
  },
  {
   "cell_type": "markdown",
   "id": "41db8d91-5833-4b2e-bc7e-f35c5aaf0da6",
   "metadata": {},
   "source": [
    "2. Load the `mpg` dataset as a spark dataframe."
   ]
  },
  {
   "cell_type": "code",
   "execution_count": 12,
   "id": "dfba6092-1e69-46fe-8021-bc0f4a10d5e7",
   "metadata": {},
   "outputs": [],
   "source": [
    "from pydataset import data\n",
    "mpg_pandas = data('mpg')"
   ]
  },
  {
   "cell_type": "code",
   "execution_count": 13,
   "id": "f575b3be-6767-47fd-a629-6630fd99e6f9",
   "metadata": {},
   "outputs": [],
   "source": [
    "mpg = spark.createDataFrame(mpg_pandas)"
   ]
  },
  {
   "cell_type": "code",
   "execution_count": 14,
   "id": "d683852b-fc6b-4b32-bf04-b9bd9e9f14f4",
   "metadata": {},
   "outputs": [
    {
     "name": "stdout",
     "output_type": "stream",
     "text": [
      "+------------+-----+-----+----+---+----------+---+---+---+---+-------+\n",
      "|manufacturer|model|displ|year|cyl|     trans|drv|cty|hwy| fl|  class|\n",
      "+------------+-----+-----+----+---+----------+---+---+---+---+-------+\n",
      "|        audi|   a4|  1.8|1999|  4|  auto(l5)|  f| 18| 29|  p|compact|\n",
      "|        audi|   a4|  1.8|1999|  4|manual(m5)|  f| 21| 29|  p|compact|\n",
      "|        audi|   a4|  2.0|2008|  4|manual(m6)|  f| 20| 31|  p|compact|\n",
      "|        audi|   a4|  2.0|2008|  4|  auto(av)|  f| 21| 30|  p|compact|\n",
      "|        audi|   a4|  2.8|1999|  6|  auto(l5)|  f| 16| 26|  p|compact|\n",
      "+------------+-----+-----+----+---+----------+---+---+---+---+-------+\n",
      "only showing top 5 rows\n",
      "\n"
     ]
    }
   ],
   "source": [
    "mpg.show(5)"
   ]
  },
  {
   "cell_type": "markdown",
   "id": "6cdc81c1-9bf6-4fec-a880-5419ec42e959",
   "metadata": {},
   "source": [
    "    - Create 1 column of output that contains a message like the one below:"
   ]
  },
  {
   "cell_type": "code",
   "execution_count": 17,
   "id": "3d4add02-a083-418c-9ddd-a8bdc44d7fb6",
   "metadata": {},
   "outputs": [
    {
     "name": "stdout",
     "output_type": "stream",
     "text": [
      "+------------------------------------------+\n",
      "|description                               |\n",
      "+------------------------------------------+\n",
      "|The 1999 audi has a 4 cylinder engine     |\n",
      "|The 1999 audi has a 4 cylinder engine     |\n",
      "|The 2008 audi has a 4 cylinder engine     |\n",
      "|The 2008 audi has a 4 cylinder engine     |\n",
      "|The 1999 audi has a 6 cylinder engine     |\n",
      "|The 1999 audi has a 6 cylinder engine     |\n",
      "|The 2008 audi has a 6 cylinder engine     |\n",
      "|The 1999 audi has a 4 cylinder engine     |\n",
      "|The 1999 audi has a 4 cylinder engine     |\n",
      "|The 2008 audi has a 4 cylinder engine     |\n",
      "|The 2008 audi has a 4 cylinder engine     |\n",
      "|The 1999 audi has a 6 cylinder engine     |\n",
      "|The 1999 audi has a 6 cylinder engine     |\n",
      "|The 2008 audi has a 6 cylinder engine     |\n",
      "|The 2008 audi has a 6 cylinder engine     |\n",
      "|The 1999 audi has a 6 cylinder engine     |\n",
      "|The 2008 audi has a 6 cylinder engine     |\n",
      "|The 2008 audi has a 8 cylinder engine     |\n",
      "|The 2008 chevrolet has a 8 cylinder engine|\n",
      "|The 2008 chevrolet has a 8 cylinder engine|\n",
      "+------------------------------------------+\n",
      "only showing top 20 rows\n",
      "\n"
     ]
    }
   ],
   "source": [
    "mpg.select(\n",
    "    F.concat(\n",
    "    F.lit('The '), \n",
    "    mpg.year,\n",
    "    F.lit(' '), \n",
    "    mpg.manufacturer,\n",
    "    F.lit(' has a '),\n",
    "    mpg.cyl,\n",
    "    F.lit(' cylinder engine')).alias('description')\n",
    "    ).show(truncate=False)"
   ]
  },
  {
   "cell_type": "markdown",
   "id": "7dd59099-78ba-4bf3-a497-9cd73ef4ed01",
   "metadata": {},
   "source": [
    "            The 1999 audi a4 has a 4 cylinder engine.\n",
    "\n",
    "        For each vehicle."
   ]
  },
  {
   "cell_type": "markdown",
   "id": "20deacd7-98e7-4db9-b90f-8279dc346c74",
   "metadata": {},
   "source": [
    "     - Transform the `trans` column so that it only contains either `manual` or `auto`."
   ]
  },
  {
   "cell_type": "code",
   "execution_count": 18,
   "id": "1d1e7a1b-d03d-49ac-838d-dff2d06eb41d",
   "metadata": {},
   "outputs": [],
   "source": [
    "# mpg.select(F.when)"
   ]
  },
  {
   "cell_type": "code",
   "execution_count": null,
   "id": "49d1884f-056a-4725-a1da-f6c277b23c55",
   "metadata": {},
   "outputs": [],
   "source": [
    "mpg.select(mpg.trans).show(10)"
   ]
  },
  {
   "cell_type": "code",
   "execution_count": 19,
   "id": "d78b8a38-9f8a-4be2-956e-d770675b03c3",
   "metadata": {},
   "outputs": [
    {
     "name": "stdout",
     "output_type": "stream",
     "text": [
      "+----------+------+\n",
      "|     trans|  tran|\n",
      "+----------+------+\n",
      "|  auto(l5)|  auto|\n",
      "|manual(m5)|manual|\n",
      "|manual(m6)|manual|\n",
      "|  auto(av)|  auto|\n",
      "|  auto(l5)|  auto|\n",
      "+----------+------+\n",
      "only showing top 5 rows\n",
      "\n"
     ]
    }
   ],
   "source": [
    "# mpg with the new column, tran\n",
    "# F.when function\n",
    "# mpg.trans.like('auto%'), 'auto'\n",
    "# chain that with otherwise 'manual'\n",
    "# after the withColumn, select my old and new column\n",
    "mpg.withColumn('tran', \n",
    "               F.when(\n",
    "                mpg.trans.like('auto%'), 'auto'\n",
    "                ).otherwise(\n",
    "                    'manual'\n",
    "                    )\n",
    "            ).select('trans','tran').show(5)"
   ]
  },
  {
   "cell_type": "markdown",
   "id": "e25c7062-2162-4961-ae02-004f76582229",
   "metadata": {},
   "source": [
    "3. Load the `tips` dataset as a spark dataframe.\n",
    "\n",
    "    1. What percentage of observations are smokers?\n",
    "    "
   ]
  },
  {
   "cell_type": "code",
   "execution_count": 21,
   "id": "0fbb0254-324e-479c-9984-d310a4d21c84",
   "metadata": {},
   "outputs": [],
   "source": [
    "# load up tips from pydataset, feed it into createDataFrame\n",
    "tips = spark.createDataFrame(data('tips'))"
   ]
  },
  {
   "cell_type": "code",
   "execution_count": 22,
   "id": "effb0da8",
   "metadata": {},
   "outputs": [
    {
     "data": {
      "text/plain": [
       "244"
      ]
     },
     "execution_count": 22,
     "metadata": {},
     "output_type": "execute_result"
    }
   ],
   "source": [
    "tips.count()"
   ]
  },
  {
   "cell_type": "code",
   "execution_count": 24,
   "id": "3595b9ea",
   "metadata": {},
   "outputs": [
    {
     "name": "stdout",
     "output_type": "stream",
     "text": [
      "+------+-----+\n",
      "|smoker|count|\n",
      "+------+-----+\n",
      "|    No|  151|\n",
      "|   Yes|   93|\n",
      "+------+-----+\n",
      "\n"
     ]
    }
   ],
   "source": [
    "tips.groupby('smoker').count().show()"
   ]
  },
  {
   "cell_type": "code",
   "execution_count": 25,
   "id": "459636a4-8b27-4697-b60d-76e45b55d9a7",
   "metadata": {},
   "outputs": [
    {
     "name": "stdout",
     "output_type": "stream",
     "text": [
      "+------+-----+-------+\n",
      "|smoker|count|percent|\n",
      "+------+-----+-------+\n",
      "|    No|  151|   62.0|\n",
      "|   Yes|   93|   38.0|\n",
      "+------+-----+-------+\n",
      "\n"
     ]
    }
   ],
   "source": [
    "\n",
    "# group by smoker column,\n",
    "# grab the counts of each subpopulation,\n",
    "# make a new column (withColumn) called percent\n",
    "# reference the new aggreagted column count, divide by the length of the df\n",
    "# multiply by 100 to get the percentage, round the whole thing\n",
    "# then show\n",
    "tips.groupby('smoker').count().withColumn(\n",
    "    'percent', F.round(\n",
    "        F.col('count') / tips.count() * 100\n",
    "        )\n",
    "        ).show()"
   ]
  },
  {
   "cell_type": "markdown",
   "id": "31e1265c-ae76-4dc5-9167-10a366b490f9",
   "metadata": {},
   "source": [
    "    2. Create a column that contains the tip percentage\n",
    "    "
   ]
  },
  {
   "cell_type": "code",
   "execution_count": 26,
   "id": "985f883d-8b0a-4673-8b7c-c3a959deb023",
   "metadata": {},
   "outputs": [
    {
     "data": {
      "text/plain": [
       "['total_bill', 'tip', 'sex', 'smoker', 'day', 'time', 'size']"
      ]
     },
     "execution_count": 26,
     "metadata": {},
     "output_type": "execute_result"
    }
   ],
   "source": [
    "tips.columns"
   ]
  },
  {
   "cell_type": "code",
   "execution_count": 27,
   "id": "4c9eaa3a-ae34-45eb-acaa-262cd3d7b83b",
   "metadata": {},
   "outputs": [
    {
     "name": "stdout",
     "output_type": "stream",
     "text": [
      "+----------+----+------+------+---+------+----+-------------------+\n",
      "|total_bill| tip|   sex|smoker|day|  time|size|     tip_percentage|\n",
      "+----------+----+------+------+---+------+----+-------------------+\n",
      "|     16.99|1.01|Female|    No|Sun|Dinner|   2|0.05944673337257211|\n",
      "|     10.34|1.66|  Male|    No|Sun|Dinner|   3|0.16054158607350097|\n",
      "|     21.01| 3.5|  Male|    No|Sun|Dinner|   3|0.16658733936220846|\n",
      "|     23.68|3.31|  Male|    No|Sun|Dinner|   2| 0.1397804054054054|\n",
      "|     24.59|3.61|Female|    No|Sun|Dinner|   4|0.14680764538430255|\n",
      "+----------+----+------+------+---+------+----+-------------------+\n",
      "only showing top 5 rows\n",
      "\n"
     ]
    }
   ],
   "source": [
    "tips.withColumn(\n",
    "    'tip_percentage', tips.tip / tips.total_bill\n",
    "    ).show(5)"
   ]
  },
  {
   "cell_type": "code",
   "execution_count": 29,
   "id": "7d90c6d6-4d5f-4830-a897-2e4eeb245c6b",
   "metadata": {},
   "outputs": [
    {
     "name": "stdout",
     "output_type": "stream",
     "text": [
      "+----+----------+--------------+\n",
      "| tip|total_bill|tip_percentage|\n",
      "+----+----------+--------------+\n",
      "|1.01|     16.99|        0.0594|\n",
      "|1.66|     10.34|        0.1605|\n",
      "| 3.5|     21.01|        0.1666|\n",
      "|3.31|     23.68|        0.1398|\n",
      "|3.61|     24.59|        0.1468|\n",
      "+----+----------+--------------+\n",
      "only showing top 5 rows\n",
      "\n"
     ]
    }
   ],
   "source": [
    "tips.select(\n",
    "    tips.tip,\n",
    "    tips.total_bill,\n",
    "    F.round(\n",
    "        (tips.tip / tips.total_bill), 4\n",
    "        ).alias('tip_percentage')\n",
    "        ).show(5)"
   ]
  },
  {
   "cell_type": "markdown",
   "id": "5dc21a51-3796-417e-855e-fcd4b2ef7d50",
   "metadata": {},
   "source": [
    "    3. Calculate the average tip percentage for each combination of sex and smoker."
   ]
  },
  {
   "cell_type": "code",
   "execution_count": 30,
   "id": "e8f32c23-782e-49ea-b6c6-2996816b7c67",
   "metadata": {},
   "outputs": [
    {
     "name": "stdout",
     "output_type": "stream",
     "text": [
      "+------+------+---------+\n",
      "|   sex|smoker|avg_tip_p|\n",
      "+------+------+---------+\n",
      "|  Male|    No|   0.1607|\n",
      "|Female|    No|   0.1569|\n",
      "|  Male|   Yes|   0.1528|\n",
      "|Female|   Yes|   0.1822|\n",
      "+------+------+---------+\n",
      "\n"
     ]
    }
   ],
   "source": [
    "# make the same tip_percentage column that I just did\n",
    "# from that point, pass a groupby\n",
    "# sex, smoker\n",
    "# pass aggregative function mean to tip_percentage (applied to each group)\n",
    "tips.withColumn(\n",
    "    'tip_percentage',\n",
    "    tips.tip / tips.total_bill\n",
    "    ).groupby(\n",
    "    'sex',\n",
    "    'smoker').agg(\n",
    "        F.round(\n",
    "            F.mean('tip_percentage'),4).alias(\n",
    "                'avg_tip_p')\n",
    "                ).show()"
   ]
  },
  {
   "cell_type": "code",
   "execution_count": 31,
   "id": "9d91ca4c-10d7-4ffe-b675-7871efb05b85",
   "metadata": {},
   "outputs": [
    {
     "name": "stdout",
     "output_type": "stream",
     "text": [
      "+------+------+------+\n",
      "|   sex|    No|   Yes|\n",
      "+------+------+------+\n",
      "|Female|0.1569|0.1822|\n",
      "|  Male|0.1607|0.1528|\n",
      "+------+------+------+\n",
      "\n"
     ]
    }
   ],
   "source": [
    "# pivot version:\n",
    "tips.groupby(\n",
    "    'sex').pivot(\n",
    "        'smoker').agg(\n",
    "            F.round(F.mean(tips.tip / tips.total_bill),4)).show()"
   ]
  },
  {
   "cell_type": "markdown",
   "id": "23e3746c-a93c-4ade-8e3e-617dbfece643",
   "metadata": {},
   "source": [
    "4. Use the seattle weather dataset referenced in the lesson to answer the questions below.\n",
    "\n",
    "    - Convert the temperatures to fahrenheit.\n",
    "    "
   ]
  },
  {
   "cell_type": "code",
   "execution_count": 32,
   "id": "cd4d4c72-2df1-4eaa-83d9-118d77cd8ab5",
   "metadata": {},
   "outputs": [],
   "source": [
    "from vega_datasets import data\n",
    "weather = data.seattle_weather()\n",
    "weather = spark.createDataFrame(weather)"
   ]
  },
  {
   "cell_type": "code",
   "execution_count": null,
   "id": "62716aeb",
   "metadata": {},
   "outputs": [],
   "source": [
    "# c to f: (0°C × 9/5) + 32 = 32°F"
   ]
  },
  {
   "cell_type": "code",
   "execution_count": 34,
   "id": "15b258b2",
   "metadata": {},
   "outputs": [
    {
     "name": "stdout",
     "output_type": "stream",
     "text": [
      "+-------------------+-------------+--------+--------+----+-------+\n",
      "|               date|precipitation|temp_max|temp_min|wind|weather|\n",
      "+-------------------+-------------+--------+--------+----+-------+\n",
      "|2012-01-01 00:00:00|          0.0|   55.04|    41.0| 4.7|drizzle|\n",
      "|2012-01-02 00:00:00|         10.9|   51.08|   37.04| 4.5|   rain|\n",
      "|2012-01-03 00:00:00|          0.8|   53.06|   44.96| 2.3|   rain|\n",
      "|2012-01-04 00:00:00|         20.3|   53.96|   42.08| 4.7|   rain|\n",
      "|2012-01-05 00:00:00|          1.3|   48.02|   37.04| 6.1|   rain|\n",
      "+-------------------+-------------+--------+--------+----+-------+\n",
      "only showing top 5 rows\n",
      "\n"
     ]
    }
   ],
   "source": [
    "weather.show(5)"
   ]
  },
  {
   "cell_type": "code",
   "execution_count": 33,
   "id": "83204b5c",
   "metadata": {},
   "outputs": [
    {
     "name": "stdout",
     "output_type": "stream",
     "text": [
      "+-------------------+-------------+--------+--------+----+-------+\n",
      "|               date|precipitation|temp_max|temp_min|wind|weather|\n",
      "+-------------------+-------------+--------+--------+----+-------+\n",
      "|2012-01-01 00:00:00|          0.0|   55.04|    41.0| 4.7|drizzle|\n",
      "|2012-01-02 00:00:00|         10.9|   51.08|   37.04| 4.5|   rain|\n",
      "|2012-01-03 00:00:00|          0.8|   53.06|   44.96| 2.3|   rain|\n",
      "|2012-01-04 00:00:00|         20.3|   53.96|   42.08| 4.7|   rain|\n",
      "|2012-01-05 00:00:00|          1.3|   48.02|   37.04| 6.1|   rain|\n",
      "+-------------------+-------------+--------+--------+----+-------+\n",
      "only showing top 5 rows\n",
      "\n"
     ]
    }
   ],
   "source": [
    "# assign everything to weather, then pass in weather.show(5)\n",
    "# steps:\n",
    "# make a column called temp_max,\n",
    "# multiply it by 9/5 and add 32\n",
    "#pass in a new withColumn temp_min, do the same operation\n",
    "weather = \\\n",
    "weather.withColumn(\n",
    "    \"temp_max\", (F.col(\"temp_max\") * 9 / 5 + 32)\n",
    ").withColumn(\"temp_min\", (F.col(\"temp_min\") * 9 / 5 + 32))\n",
    "weather.show(5)"
   ]
  },
  {
   "cell_type": "code",
   "execution_count": null,
   "id": "771b5fb7-4a96-4d79-8683-e96160f0c8a6",
   "metadata": {},
   "outputs": [],
   "source": [
    "weather.columns"
   ]
  },
  {
   "cell_type": "code",
   "execution_count": 35,
   "id": "5085dabb-103b-4eff-a577-7310f90ac544",
   "metadata": {},
   "outputs": [
    {
     "data": {
      "text/plain": [
       "(1461, 6)"
      ]
     },
     "execution_count": 35,
     "metadata": {},
     "output_type": "execute_result"
    }
   ],
   "source": [
    "weather.count(), len(weather.columns)"
   ]
  },
  {
   "cell_type": "markdown",
   "id": "32086e0a-b9f0-41c0-b90f-28dc7afdace0",
   "metadata": {},
   "source": [
    "    - Which month has the most rain, on average?\n",
    "    "
   ]
  },
  {
   "cell_type": "code",
   "execution_count": 38,
   "id": "456e28dd-7ad4-4bdc-8894-e656577acead",
   "metadata": {},
   "outputs": [
    {
     "data": {
      "text/plain": [
       "11"
      ]
     },
     "execution_count": 38,
     "metadata": {},
     "output_type": "execute_result"
    }
   ],
   "source": [
    "# aggregation: take the months out of the date\n",
    "# agreative function: average of rain, highest value\n",
    "# steps:\n",
    "# make a column (withColumn)\n",
    "# month, F.month function to grab that from weather.date col\n",
    "# group by that new month column (using col('month'))\n",
    "# aggregate based on mean weather.precipitation\n",
    "# alias as avg_rainfall\n",
    "# pass a sort, make it descending,\n",
    "#show\n",
    "weather.withColumn(\n",
    "    'month', F.month(weather.date)\n",
    "    ).groupby(\n",
    "    F.col('month')\n",
    "    ).agg(\n",
    "        F.mean(\n",
    "            weather.precipitation\n",
    "            ).alias('avg_rainfall')\n",
    "            ).sort(\n",
    "                F.col('avg_rainfall').desc()\n",
    "                ).first()[0]"
   ]
  },
  {
   "cell_type": "markdown",
   "id": "07a5a728-5621-4131-998d-951d15965d12",
   "metadata": {},
   "source": [
    "    - Which year was the windiest?\n",
    "    "
   ]
  },
  {
   "cell_type": "code",
   "execution_count": 39,
   "id": "a1f05b15-3d9f-4bd7-8a6a-67383f13f539",
   "metadata": {},
   "outputs": [
    {
     "data": {
      "text/plain": [
       "Row(year=2012, avg_wind=3.400819672131148)"
      ]
     },
     "execution_count": 39,
     "metadata": {},
     "output_type": "execute_result"
    }
   ],
   "source": [
    "# we want to aggregate on the years instead of the months\n",
    "# same kind of process there --> we create a column called year,\n",
    "# we use weather.date passed into the F.year() function to grab that\n",
    "# group by the new year column,\n",
    "# get the average wind value for each year,\n",
    "# sort by the average wind column that we created via alias, (inside the agg())\n",
    "# chain a desc() inside my sort()\n",
    "# grab the first entry\n",
    "weather.withColumn(\n",
    "    'year',\n",
    "    F.year(weather.date)\n",
    "    ).groupby(\n",
    "    F.col('year')\n",
    "    ).agg(\n",
    "        F.mean(weather.wind).alias('avg_wind')\n",
    "        ).sort(\n",
    "            F.col('avg_wind').desc()\n",
    "            ).first()"
   ]
  },
  {
   "cell_type": "markdown",
   "id": "b4734263-18df-4cb7-925d-41db3293116a",
   "metadata": {},
   "source": [
    "    - What is the most frequent type of weather in January?\n",
    "    "
   ]
  },
  {
   "cell_type": "code",
   "execution_count": 40,
   "id": "e9c6007c-36bd-46ce-a1de-d9f25f45f125",
   "metadata": {},
   "outputs": [
    {
     "name": "stdout",
     "output_type": "stream",
     "text": [
      "+-------+-----+\n",
      "|weather|count|\n",
      "+-------+-----+\n",
      "|    fog|   38|\n",
      "|   rain|   35|\n",
      "|    sun|   33|\n",
      "|drizzle|   10|\n",
      "|   snow|    8|\n",
      "+-------+-----+\n",
      "\n"
     ]
    }
   ],
   "source": [
    "# narrow down the month, using the F.month() function\n",
    "# df[df.month == 1] ==> .filter(F.month(weather.date) == 1)\n",
    "# aggregate weather \n",
    "# aggregation function: frequency -> take the count\n",
    "# sort by the count, descending\n",
    "weather.filter(\n",
    "    F.month(weather.date) == 1\n",
    "    ).groupby(\n",
    "    weather.weather\n",
    "    ).count().sort(\n",
    "        F.col('count').desc()\n",
    "        ).show()"
   ]
  },
  {
   "cell_type": "markdown",
   "id": "76332ea5-28ca-45e1-a7e1-35a46f0501df",
   "metadata": {},
   "source": [
    "    - What is the average high and low temperature on sunny days in July in 2013 and 2014?\n",
    "    "
   ]
  },
  {
   "cell_type": "code",
   "execution_count": 41,
   "id": "dcaa5b0e-2455-469c-8aab-a6543ada4575",
   "metadata": {},
   "outputs": [
    {
     "name": "stdout",
     "output_type": "stream",
     "text": [
      "+-----------------+-----------------+\n",
      "|average_high_temp| average_low_temp|\n",
      "+-----------------+-----------------+\n",
      "|80.29192307692308|57.52884615384615|\n",
      "+-----------------+-----------------+\n",
      "\n"
     ]
    }
   ],
   "source": [
    "# filter on month as july\n",
    "# say cases where the year is greater than 2012, but lower than 2015\n",
    "# weather is equivalent to sun\n",
    "# pass these filters in chain,\n",
    "# aggregate on the entire dataframe:\n",
    "# average max temp, aliased as average_high_temp\n",
    "# average min temp, alaiased as average_low_temp\n",
    "(\n",
    "    weather.filter(F.month(\"date\") == 7)\n",
    "    .filter(F.year(\"date\") > 2012)\n",
    "    .filter(F.year(\"date\") < 2015)\n",
    "    .filter(F.col(\"weather\") == F.lit(\"sun\"))\n",
    "    .agg(\n",
    "        F.avg(\"temp_max\").alias(\"average_high_temp\"),\n",
    "        F.avg(\"temp_min\").alias(\"average_low_temp\"),\n",
    "    )\n",
    "    .show()\n",
    ")"
   ]
  },
  {
   "cell_type": "markdown",
   "id": "9fcfd48f-b6ba-4090-be3a-429e700ca1d4",
   "metadata": {},
   "source": [
    "    - What percentage of days were rainy in q3 of 2015?\n",
    "    "
   ]
  },
  {
   "cell_type": "code",
   "execution_count": 42,
   "id": "58a02908-a091-44a1-b0c9-d675e55cbeea",
   "metadata": {},
   "outputs": [
    {
     "name": "stdout",
     "output_type": "stream",
     "text": [
      "+--------------------+\n",
      "|           avg(rain)|\n",
      "+--------------------+\n",
      "|0.021739130434782608|\n",
      "+--------------------+\n",
      "\n"
     ]
    }
   ],
   "source": [
    "# in pandas -- (df.weather == \"rain\").mean()\n",
    "# measure a rainy day by weather == rain\n",
    "(\n",
    "    weather.filter(F.year('date') == 2015)\n",
    "    .filter(F.quarter('date') == 3)\n",
    "    .select(\n",
    "        F.when(\n",
    "            F.col('weather') == 'rain', 1\n",
    "            ).otherwise(0).alias('rain'))\n",
    "    .agg(F.mean('rain'))\n",
    "    .show()\n",
    ")"
   ]
  },
  {
   "cell_type": "markdown",
   "id": "71fc2e8a-c54a-4c1a-af9f-9245ab98d928",
   "metadata": {},
   "source": [
    "    - For each year, find what percentage of days it rained (had non-zero precipitation)."
   ]
  },
  {
   "cell_type": "code",
   "execution_count": 44,
   "id": "3f968eca-eb5a-4bed-94ac-900e3f54d25c",
   "metadata": {},
   "outputs": [
    {
     "name": "stdout",
     "output_type": "stream",
     "text": [
      "+----+-------------------+\n",
      "|year|      avg(did_rain)|\n",
      "+----+-------------------+\n",
      "|2012|0.48360655737704916|\n",
      "|2013|0.41643835616438357|\n",
      "|2014|  0.410958904109589|\n",
      "|2015|0.39452054794520547|\n",
      "+----+-------------------+\n",
      "\n"
     ]
    }
   ],
   "source": [
    "# measure a rainy day by precipitation > 0\n",
    "# for each year:\n",
    "# make a column called year, grab that with F.year('date')\n",
    "# pass a new select on that withColumn version of the dataframe\n",
    "# inside of that select,\n",
    "# pass a when ==> when precipitation is greater than zero, give a 1\n",
    "# otherwise, give me a zero\n",
    "# aliasing that column as 'did_rain'\n",
    "# select this new column did_rain, and year strictly\n",
    "# group by the year column (created in the first withColumn)\n",
    "# aggregate the mean of each rain field for year\n",
    "(\n",
    "    weather.withColumn(\n",
    "        'year', F.year('date')\n",
    "        )\n",
    "    .select(\n",
    "        F.when(\n",
    "            F.col('precipitation') > 0, 1\n",
    "            ).otherwise(0).alias('did_rain'), 'year'\n",
    "            )\n",
    "    .groupby('year')\n",
    "    .agg(F.mean('did_rain'))\n",
    "    .show()\n",
    ")"
   ]
  },
  {
   "cell_type": "markdown",
   "id": "00a5de83",
   "metadata": {},
   "source": []
  },
  {
   "cell_type": "code",
   "execution_count": null,
   "id": "36c9492e-cc72-4886-89f5-dc46ed951d3b",
   "metadata": {},
   "outputs": [],
   "source": []
  }
 ],
 "metadata": {
  "kernelspec": {
   "display_name": "Python 3.9.4 ('homebase')",
   "language": "python",
   "name": "python3"
  },
  "language_info": {
   "codemirror_mode": {
    "name": "ipython",
    "version": 3
   },
   "file_extension": ".py",
   "mimetype": "text/x-python",
   "name": "python",
   "nbconvert_exporter": "python",
   "pygments_lexer": "ipython3",
   "version": "3.9.4"
  },
  "vscode": {
   "interpreter": {
    "hash": "a663fe87cecd745cb612072d9d637a53c729fd52234205507f921849fb354870"
   }
  }
 },
 "nbformat": 4,
 "nbformat_minor": 5
}
