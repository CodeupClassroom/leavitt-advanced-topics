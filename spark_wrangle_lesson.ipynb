{
 "cells": [
  {
   "cell_type": "markdown",
   "id": "ea3879fa",
   "metadata": {},
   "source": [
    "# Spark Data Wrangling"
   ]
  },
  {
   "cell_type": "code",
   "execution_count": 1,
   "id": "693fba94",
   "metadata": {},
   "outputs": [],
   "source": [
    "import pandas as pd\n",
    "\n",
    "from pyspark.sql import SparkSession\n",
    "from pyspark.sql.functions import * \n",
    "\n",
    "from env import get_db_url"
   ]
  },
  {
   "cell_type": "code",
   "execution_count": 2,
   "id": "08499f89",
   "metadata": {},
   "outputs": [],
   "source": [
    "# def get_db_url(db):\n",
    "#     '''input df and output sql connection string'''\n",
    "#     return (f'mysql+pymysql://{user}:{password}@{host}/{db}')"
   ]
  },
  {
   "cell_type": "markdown",
   "id": "8f66c455",
   "metadata": {},
   "source": [
    "## Acquire"
   ]
  },
  {
   "cell_type": "code",
   "execution_count": 3,
   "id": "755438f6",
   "metadata": {},
   "outputs": [
    {
     "name": "stderr",
     "output_type": "stream",
     "text": [
      "Setting default log level to \"WARN\".\n",
      "To adjust logging level use sc.setLogLevel(newLevel). For SparkR, use setLogLevel(newLevel).\n"
     ]
    },
    {
     "name": "stdout",
     "output_type": "stream",
     "text": [
      "22/10/21 12:49:47 WARN NativeCodeLoader: Unable to load native-hadoop library for your platform... using builtin-java classes where applicable\n",
      "22/10/21 12:49:48 WARN Utils: Service 'SparkUI' could not bind on port 4040. Attempting port 4041.\n",
      "22/10/21 12:49:48 WARN Utils: Service 'SparkUI' could not bind on port 4041. Attempting port 4042.\n",
      "22/10/21 12:49:48 WARN Utils: Service 'SparkUI' could not bind on port 4042. Attempting port 4043.\n",
      "22/10/21 12:49:48 WARN Utils: Service 'SparkUI' could not bind on port 4043. Attempting port 4044.\n"
     ]
    },
    {
     "data": {
      "text/html": [
       "\n",
       "            <div>\n",
       "                <p><b>SparkSession - in-memory</b></p>\n",
       "                \n",
       "        <div>\n",
       "            <p><b>SparkContext</b></p>\n",
       "\n",
       "            <p><a href=\"http://mistygarciasmbp:4044\">Spark UI</a></p>\n",
       "\n",
       "            <dl>\n",
       "              <dt>Version</dt>\n",
       "                <dd><code>v3.3.0</code></dd>\n",
       "              <dt>Master</dt>\n",
       "                <dd><code>local[*]</code></dd>\n",
       "              <dt>AppName</dt>\n",
       "                <dd><code>pyspark-shell</code></dd>\n",
       "            </dl>\n",
       "        </div>\n",
       "        \n",
       "            </div>\n",
       "        "
      ],
      "text/plain": [
       "<pyspark.sql.session.SparkSession at 0x127f7fd90>"
      ]
     },
     "execution_count": 3,
     "metadata": {},
     "output_type": "execute_result"
    }
   ],
   "source": [
    "#create enviroment\n",
    "spark = SparkSession.builder.getOrCreate()\n",
    "spark"
   ]
  },
  {
   "cell_type": "markdown",
   "id": "5ae2fc66",
   "metadata": {},
   "source": [
    "### load mpg data set from pydataset"
   ]
  },
  {
   "cell_type": "code",
   "execution_count": 4,
   "id": "551e9942",
   "metadata": {},
   "outputs": [],
   "source": [
    "from pydataset import data"
   ]
  },
  {
   "cell_type": "code",
   "execution_count": 5,
   "id": "c9e58c68",
   "metadata": {},
   "outputs": [
    {
     "data": {
      "text/plain": [
       "DataFrame[manufacturer: string, model: string, displ: double, year: bigint, cyl: bigint, trans: string, drv: string, cty: bigint, hwy: bigint, fl: string, class: string]"
      ]
     },
     "execution_count": 5,
     "metadata": {},
     "output_type": "execute_result"
    }
   ],
   "source": [
    "mpg = spark.createDataFrame(data('mpg'))\n",
    "mpg"
   ]
  },
  {
   "cell_type": "code",
   "execution_count": 6,
   "id": "83c87000",
   "metadata": {},
   "outputs": [
    {
     "name": "stderr",
     "output_type": "stream",
     "text": [
      "\r",
      "[Stage 0:>                                                          (0 + 1) / 1]\r"
     ]
    },
    {
     "name": "stdout",
     "output_type": "stream",
     "text": [
      "+------------+-----+-----+----+---+----------+---+---+---+---+-------+\n",
      "|manufacturer|model|displ|year|cyl|     trans|drv|cty|hwy| fl|  class|\n",
      "+------------+-----+-----+----+---+----------+---+---+---+---+-------+\n",
      "|        audi|   a4|  1.8|1999|  4|  auto(l5)|  f| 18| 29|  p|compact|\n",
      "|        audi|   a4|  1.8|1999|  4|manual(m5)|  f| 21| 29|  p|compact|\n",
      "|        audi|   a4|  2.0|2008|  4|manual(m6)|  f| 20| 31|  p|compact|\n",
      "|        audi|   a4|  2.0|2008|  4|  auto(av)|  f| 21| 30|  p|compact|\n",
      "|        audi|   a4|  2.8|1999|  6|  auto(l5)|  f| 16| 26|  p|compact|\n",
      "+------------+-----+-----+----+---+----------+---+---+---+---+-------+\n",
      "only showing top 5 rows\n",
      "\n"
     ]
    },
    {
     "name": "stderr",
     "output_type": "stream",
     "text": [
      "\r",
      "                                                                                \r"
     ]
    }
   ],
   "source": [
    "mpg.show(5)"
   ]
  },
  {
   "cell_type": "markdown",
   "id": "b6b59db6",
   "metadata": {},
   "source": [
    "### write datafame to file"
   ]
  },
  {
   "cell_type": "markdown",
   "id": "30572adc",
   "metadata": {},
   "source": [
    "- `json`: for writing to a local json file(s)\n",
    "- `csv`: for writing to a local csv file(s)\n",
    "- `parquet`: Parquet is a very popular columnar storage format for Hadoop.\n",
    "- `jdbc`: for writing to a SQL database table"
   ]
  },
  {
   "cell_type": "markdown",
   "id": "74e8bbb4",
   "metadata": {},
   "source": [
    "#### write file to json"
   ]
  },
  {
   "cell_type": "code",
   "execution_count": 7,
   "id": "d8d07a63",
   "metadata": {},
   "outputs": [
    {
     "name": "stderr",
     "output_type": "stream",
     "text": [
      "                                                                                \r"
     ]
    }
   ],
   "source": [
    "#df.write.type\n",
    "mpg.write.json('data/mpg_json', mode='overwrite')"
   ]
  },
  {
   "cell_type": "code",
   "execution_count": 8,
   "id": "46a8a189",
   "metadata": {},
   "outputs": [],
   "source": [
    "import os"
   ]
  },
  {
   "cell_type": "code",
   "execution_count": 9,
   "id": "26dd695d",
   "metadata": {},
   "outputs": [
    {
     "data": {
      "text/plain": [
       "['part-00008-eb73281b-3ef1-4084-b83a-d215193bd07d-c000.json',\n",
       " 'part-00005-eb73281b-3ef1-4084-b83a-d215193bd07d-c000.json',\n",
       " '.part-00005-eb73281b-3ef1-4084-b83a-d215193bd07d-c000.json.crc',\n",
       " 'part-00000-eb73281b-3ef1-4084-b83a-d215193bd07d-c000.json',\n",
       " '.part-00006-eb73281b-3ef1-4084-b83a-d215193bd07d-c000.json.crc',\n",
       " 'part-00002-eb73281b-3ef1-4084-b83a-d215193bd07d-c000.json',\n",
       " '.part-00001-eb73281b-3ef1-4084-b83a-d215193bd07d-c000.json.crc',\n",
       " '._SUCCESS.crc',\n",
       " '.part-00008-eb73281b-3ef1-4084-b83a-d215193bd07d-c000.json.crc',\n",
       " 'part-00007-eb73281b-3ef1-4084-b83a-d215193bd07d-c000.json',\n",
       " '.part-00002-eb73281b-3ef1-4084-b83a-d215193bd07d-c000.json.crc',\n",
       " '.part-00004-eb73281b-3ef1-4084-b83a-d215193bd07d-c000.json.crc',\n",
       " 'part-00006-eb73281b-3ef1-4084-b83a-d215193bd07d-c000.json',\n",
       " 'part-00003-eb73281b-3ef1-4084-b83a-d215193bd07d-c000.json',\n",
       " '.part-00007-eb73281b-3ef1-4084-b83a-d215193bd07d-c000.json.crc',\n",
       " '_SUCCESS',\n",
       " '.part-00000-eb73281b-3ef1-4084-b83a-d215193bd07d-c000.json.crc',\n",
       " 'part-00001-eb73281b-3ef1-4084-b83a-d215193bd07d-c000.json',\n",
       " '.part-00009-eb73281b-3ef1-4084-b83a-d215193bd07d-c000.json.crc',\n",
       " '.part-00003-eb73281b-3ef1-4084-b83a-d215193bd07d-c000.json.crc',\n",
       " 'part-00004-eb73281b-3ef1-4084-b83a-d215193bd07d-c000.json',\n",
       " 'part-00009-eb73281b-3ef1-4084-b83a-d215193bd07d-c000.json']"
      ]
     },
     "execution_count": 9,
     "metadata": {},
     "output_type": "execute_result"
    }
   ],
   "source": [
    "json_files = os.listdir('data/mpg_json')\n",
    "json_files"
   ]
  },
  {
   "cell_type": "code",
   "execution_count": 10,
   "id": "4daea7b8",
   "metadata": {},
   "outputs": [
    {
     "data": {
      "text/plain": [
       "['part-00008-eb73281b-3ef1-4084-b83a-d215193bd07d-c000.json',\n",
       " 'part-00005-eb73281b-3ef1-4084-b83a-d215193bd07d-c000.json',\n",
       " 'part-00000-eb73281b-3ef1-4084-b83a-d215193bd07d-c000.json',\n",
       " 'part-00002-eb73281b-3ef1-4084-b83a-d215193bd07d-c000.json',\n",
       " 'part-00007-eb73281b-3ef1-4084-b83a-d215193bd07d-c000.json',\n",
       " 'part-00006-eb73281b-3ef1-4084-b83a-d215193bd07d-c000.json',\n",
       " 'part-00003-eb73281b-3ef1-4084-b83a-d215193bd07d-c000.json',\n",
       " '_SUCCESS',\n",
       " 'part-00001-eb73281b-3ef1-4084-b83a-d215193bd07d-c000.json',\n",
       " 'part-00004-eb73281b-3ef1-4084-b83a-d215193bd07d-c000.json',\n",
       " 'part-00009-eb73281b-3ef1-4084-b83a-d215193bd07d-c000.json']"
      ]
     },
     "execution_count": 10,
     "metadata": {},
     "output_type": "execute_result"
    }
   ],
   "source": [
    "json_files = [fn for fn in json_files if not fn.startswith('.')]\n",
    "json_files"
   ]
  },
  {
   "cell_type": "markdown",
   "id": "bf08c75f",
   "metadata": {},
   "source": [
    "#### write dataframe to csv"
   ]
  },
  {
   "cell_type": "code",
   "execution_count": 11,
   "id": "21463422",
   "metadata": {},
   "outputs": [],
   "source": [
    "#df.write.format()\n",
    "(\n",
    "    mpg.write.format('csv')\n",
    "    .mode('overwrite')\n",
    "    .option('header', 'True')\n",
    "    .save('data/mpg_csv')\n",
    ")"
   ]
  },
  {
   "cell_type": "code",
   "execution_count": 12,
   "id": "e01cafd8",
   "metadata": {},
   "outputs": [
    {
     "data": {
      "text/plain": [
       "['part-00003-f73c5a38-e7ac-4b85-a04e-6cfe6a104477-c000.csv',\n",
       " 'part-00002-f73c5a38-e7ac-4b85-a04e-6cfe6a104477-c000.csv',\n",
       " 'part-00001-f73c5a38-e7ac-4b85-a04e-6cfe6a104477-c000.csv',\n",
       " 'part-00000-f73c5a38-e7ac-4b85-a04e-6cfe6a104477-c000.csv',\n",
       " 'part-00007-f73c5a38-e7ac-4b85-a04e-6cfe6a104477-c000.csv',\n",
       " 'part-00006-f73c5a38-e7ac-4b85-a04e-6cfe6a104477-c000.csv',\n",
       " '_SUCCESS',\n",
       " 'part-00005-f73c5a38-e7ac-4b85-a04e-6cfe6a104477-c000.csv',\n",
       " 'part-00009-f73c5a38-e7ac-4b85-a04e-6cfe6a104477-c000.csv',\n",
       " 'part-00004-f73c5a38-e7ac-4b85-a04e-6cfe6a104477-c000.csv',\n",
       " 'part-00008-f73c5a38-e7ac-4b85-a04e-6cfe6a104477-c000.csv']"
      ]
     },
     "execution_count": 12,
     "metadata": {},
     "output_type": "execute_result"
    }
   ],
   "source": [
    "csv_files = os.listdir('data/mpg_csv')\n",
    "csv_files = [fn for fn in csv_files if not fn.startswith('.')]\n",
    "csv_files"
   ]
  },
  {
   "cell_type": "markdown",
   "id": "6b2b6a58",
   "metadata": {},
   "source": [
    "### read files\n",
    "- spark.read.[type]"
   ]
  },
  {
   "cell_type": "markdown",
   "id": "c057159b",
   "metadata": {},
   "source": [
    "#### read json"
   ]
  },
  {
   "cell_type": "code",
   "execution_count": 13,
   "id": "0dd2a2fa",
   "metadata": {},
   "outputs": [
    {
     "data": {
      "text/plain": [
       "23"
      ]
     },
     "execution_count": 13,
     "metadata": {},
     "output_type": "execute_result"
    }
   ],
   "source": [
    "spark.read.json(f'data/mpg_json/{json_files[0]}').count()"
   ]
  },
  {
   "cell_type": "code",
   "execution_count": 14,
   "id": "60a1b71a",
   "metadata": {},
   "outputs": [
    {
     "data": {
      "text/plain": [
       "234"
      ]
     },
     "execution_count": 14,
     "metadata": {},
     "output_type": "execute_result"
    }
   ],
   "source": [
    "spark.read.json('data/mpg_json').count()"
   ]
  },
  {
   "cell_type": "code",
   "execution_count": 15,
   "id": "94fefee3",
   "metadata": {},
   "outputs": [
    {
     "name": "stdout",
     "output_type": "stream",
     "text": [
      "+-------+---+---+-----+---+---+---+------------+------------+----------+----+\n",
      "|  class|cty|cyl|displ|drv| fl|hwy|manufacturer|       model|     trans|year|\n",
      "+-------+---+---+-----+---+---+---+------------+------------+----------+----+\n",
      "|midsize| 18|  6|  3.0|  f|  r| 26|      toyota|       camry|manual(m5)|1999|\n",
      "|midsize| 19|  6|  3.5|  f|  r| 28|      toyota|       camry|  auto(s6)|2008|\n",
      "|compact| 21|  4|  2.2|  f|  r| 27|      toyota|camry solara|  auto(l4)|1999|\n",
      "|compact| 21|  4|  2.2|  f|  r| 29|      toyota|camry solara|manual(m5)|1999|\n",
      "|compact| 21|  4|  2.4|  f|  r| 31|      toyota|camry solara|manual(m5)|2008|\n",
      "+-------+---+---+-----+---+---+---+------------+------------+----------+----+\n",
      "only showing top 5 rows\n",
      "\n"
     ]
    }
   ],
   "source": [
    "spark.read.json(f'data/mpg_json/{json_files[0]}').show(5)"
   ]
  },
  {
   "cell_type": "markdown",
   "id": "e380e06a",
   "metadata": {},
   "source": [
    "#### read csv"
   ]
  },
  {
   "cell_type": "code",
   "execution_count": 16,
   "id": "ca7078bd",
   "metadata": {},
   "outputs": [
    {
     "data": {
      "text/plain": [
       "244"
      ]
     },
     "execution_count": 16,
     "metadata": {},
     "output_type": "execute_result"
    }
   ],
   "source": [
    "spark.read.csv('data/mpg_csv').count()"
   ]
  },
  {
   "cell_type": "code",
   "execution_count": 17,
   "id": "0b86a630",
   "metadata": {},
   "outputs": [
    {
     "data": {
      "text/plain": [
       "234"
      ]
     },
     "execution_count": 17,
     "metadata": {},
     "output_type": "execute_result"
    }
   ],
   "source": [
    "mpg.count()"
   ]
  },
  {
   "cell_type": "code",
   "execution_count": 18,
   "id": "4135f1e3",
   "metadata": {},
   "outputs": [
    {
     "data": {
      "text/plain": [
       "11"
      ]
     },
     "execution_count": 18,
     "metadata": {},
     "output_type": "execute_result"
    }
   ],
   "source": [
    "len(csv_files)"
   ]
  },
  {
   "cell_type": "code",
   "execution_count": 19,
   "id": "9dd7f700",
   "metadata": {},
   "outputs": [
    {
     "name": "stdout",
     "output_type": "stream",
     "text": [
      "+------------+-------------------+-----+----+---+----------+---+---+---+---+------+\n",
      "|         _c0|                _c1|  _c2| _c3|_c4|       _c5|_c6|_c7|_c8|_c9|  _c10|\n",
      "+------------+-------------------+-----+----+---+----------+---+---+---+---+------+\n",
      "|manufacturer|              model|displ|year|cyl|     trans|drv|cty|hwy| fl| class|\n",
      "|       dodge|ram 1500 pickup 4wd|  4.7|2008|  8|manual(m6)|  4|  9| 12|  e|pickup|\n",
      "|       dodge|ram 1500 pickup 4wd|  5.2|1999|  8|  auto(l4)|  4| 11| 15|  r|pickup|\n",
      "|       dodge|ram 1500 pickup 4wd|  5.2|1999|  8|manual(m5)|  4| 11| 16|  r|pickup|\n",
      "|       dodge|ram 1500 pickup 4wd|  5.7|2008|  8|  auto(l5)|  4| 13| 17|  r|pickup|\n",
      "+------------+-------------------+-----+----+---+----------+---+---+---+---+------+\n",
      "only showing top 5 rows\n",
      "\n"
     ]
    }
   ],
   "source": [
    "spark.read.csv(f'data/mpg_csv/{csv_files[0]}').show(5)"
   ]
  },
  {
   "cell_type": "code",
   "execution_count": 20,
   "id": "e36ea678",
   "metadata": {},
   "outputs": [
    {
     "data": {
      "text/plain": [
       "234"
      ]
     },
     "execution_count": 20,
     "metadata": {},
     "output_type": "execute_result"
    }
   ],
   "source": [
    "#keep written csv headers\n",
    "(\n",
    "    spark.read.format(\"csv\")\n",
    "      .option(\"header\", True)\n",
    "      .load(\"data/mpg_csv\")\n",
    ").count()"
   ]
  },
  {
   "cell_type": "code",
   "execution_count": 21,
   "id": "df69b4b5",
   "metadata": {},
   "outputs": [
    {
     "name": "stdout",
     "output_type": "stream",
     "text": [
      "+------------+-----+-----+----+---+----------+---+---+---+---+-------+\n",
      "|manufacturer|model|displ|year|cyl|     trans|drv|cty|hwy| fl|  class|\n",
      "+------------+-----+-----+----+---+----------+---+---+---+---+-------+\n",
      "|  volkswagen|  gti|  2.0|1999|  4|manual(m5)|  f| 21| 29|  r|compact|\n",
      "|  volkswagen|  gti|  2.0|1999|  4|  auto(l4)|  f| 19| 26|  r|compact|\n",
      "|  volkswagen|  gti|  2.0|2008|  4|manual(m6)|  f| 21| 29|  p|compact|\n",
      "|  volkswagen|  gti|  2.0|2008|  4|  auto(s6)|  f| 22| 29|  p|compact|\n",
      "|  volkswagen|  gti|  2.8|1999|  6|manual(m5)|  f| 17| 24|  r|compact|\n",
      "+------------+-----+-----+----+---+----------+---+---+---+---+-------+\n",
      "only showing top 5 rows\n",
      "\n"
     ]
    }
   ],
   "source": [
    "(\n",
    "    spark.read.format(\"csv\")\n",
    "      .option(\"header\", True)\n",
    "      .load(\"data/mpg_csv\")\n",
    ").show(5)"
   ]
  },
  {
   "cell_type": "markdown",
   "id": "c839b2a6",
   "metadata": {},
   "source": [
    "### load source from 311_data in sql"
   ]
  },
  {
   "cell_type": "code",
   "execution_count": 22,
   "id": "d3abd192",
   "metadata": {},
   "outputs": [],
   "source": [
    "#sql query\n",
    "url = get_db_url('311_data')\n",
    "query = 'select source_id, source_username from source'"
   ]
  },
  {
   "cell_type": "code",
   "execution_count": 23,
   "id": "017046b4",
   "metadata": {},
   "outputs": [
    {
     "data": {
      "text/html": [
       "<div>\n",
       "<style scoped>\n",
       "    .dataframe tbody tr th:only-of-type {\n",
       "        vertical-align: middle;\n",
       "    }\n",
       "\n",
       "    .dataframe tbody tr th {\n",
       "        vertical-align: top;\n",
       "    }\n",
       "\n",
       "    .dataframe thead th {\n",
       "        text-align: right;\n",
       "    }\n",
       "</style>\n",
       "<table border=\"1\" class=\"dataframe\">\n",
       "  <thead>\n",
       "    <tr style=\"text-align: right;\">\n",
       "      <th></th>\n",
       "      <th>source_id</th>\n",
       "      <th>source_username</th>\n",
       "    </tr>\n",
       "  </thead>\n",
       "  <tbody>\n",
       "    <tr>\n",
       "      <th>0</th>\n",
       "      <td>100137</td>\n",
       "      <td>Merlene Blodgett</td>\n",
       "    </tr>\n",
       "    <tr>\n",
       "      <th>1</th>\n",
       "      <td>103582</td>\n",
       "      <td>Carmen Cura</td>\n",
       "    </tr>\n",
       "    <tr>\n",
       "      <th>2</th>\n",
       "      <td>106463</td>\n",
       "      <td>Richard Sanchez</td>\n",
       "    </tr>\n",
       "    <tr>\n",
       "      <th>3</th>\n",
       "      <td>119403</td>\n",
       "      <td>Betty De Hoyos</td>\n",
       "    </tr>\n",
       "    <tr>\n",
       "      <th>4</th>\n",
       "      <td>119555</td>\n",
       "      <td>Socorro Quiara</td>\n",
       "    </tr>\n",
       "  </tbody>\n",
       "</table>\n",
       "</div>"
      ],
      "text/plain": [
       "  source_id   source_username\n",
       "0    100137  Merlene Blodgett\n",
       "1    103582       Carmen Cura\n",
       "2    106463   Richard Sanchez\n",
       "3    119403    Betty De Hoyos\n",
       "4    119555    Socorro Quiara"
      ]
     },
     "execution_count": 23,
     "metadata": {},
     "output_type": "execute_result"
    }
   ],
   "source": [
    "#make pandas df\n",
    "pandas_df = pd.read_sql(query, url)\n",
    "pandas_df.head()"
   ]
  },
  {
   "cell_type": "code",
   "execution_count": 24,
   "id": "0e439361",
   "metadata": {},
   "outputs": [
    {
     "data": {
      "text/plain": [
       "DataFrame[source_id: string, source_username: string]"
      ]
     },
     "execution_count": 24,
     "metadata": {},
     "output_type": "execute_result"
    }
   ],
   "source": [
    "#create spark df\n",
    "sources = spark.createDataFrame(pandas_df)\n",
    "sources"
   ]
  },
  {
   "cell_type": "code",
   "execution_count": 25,
   "id": "374e4e16",
   "metadata": {},
   "outputs": [
    {
     "name": "stdout",
     "output_type": "stream",
     "text": [
      "+---------+----------------+\n",
      "|source_id| source_username|\n",
      "+---------+----------------+\n",
      "|   100137|Merlene Blodgett|\n",
      "|   103582|     Carmen Cura|\n",
      "|   106463| Richard Sanchez|\n",
      "|   119403|  Betty De Hoyos|\n",
      "|   119555|  Socorro Quiara|\n",
      "+---------+----------------+\n",
      "only showing top 5 rows\n",
      "\n"
     ]
    }
   ],
   "source": [
    "sources.show(5)"
   ]
  },
  {
   "cell_type": "markdown",
   "id": "a98562d5",
   "metadata": {},
   "source": [
    "### data schema"
   ]
  },
  {
   "cell_type": "code",
   "execution_count": 26,
   "id": "5303f53e",
   "metadata": {},
   "outputs": [
    {
     "data": {
      "text/plain": [
       "StructType([StructField('source_id', StringType(), True), StructField('source_username', StringType(), True)])"
      ]
     },
     "execution_count": 26,
     "metadata": {},
     "output_type": "execute_result"
    }
   ],
   "source": [
    "sources.schema"
   ]
  },
  {
   "cell_type": "code",
   "execution_count": 27,
   "id": "5d491717",
   "metadata": {},
   "outputs": [],
   "source": [
    "from pyspark.sql.types import StructType, StructField, StringType"
   ]
  },
  {
   "cell_type": "code",
   "execution_count": 28,
   "id": "cda593d9",
   "metadata": {},
   "outputs": [
    {
     "data": {
      "text/plain": [
       "StructType([StructField('source_id', StringType(), True), StructField('source_username', StringType(), True)])"
      ]
     },
     "execution_count": 28,
     "metadata": {},
     "output_type": "execute_result"
    }
   ],
   "source": [
    "#use structype to build a list of the structfield with the columns assocaited schema\n",
    "schema = StructType(\n",
    "    [\n",
    "     StructField('source_id', StringType()),\n",
    "     StructField('source_username', StringType())\n",
    "    ]\n",
    ")\n",
    "schema"
   ]
  },
  {
   "cell_type": "code",
   "execution_count": 29,
   "id": "ffafb140",
   "metadata": {},
   "outputs": [
    {
     "name": "stdout",
     "output_type": "stream",
     "text": [
      "20.8 ms ± 3.63 ms per loop (mean ± std. dev. of 7 runs, 10 loops each)\n"
     ]
    }
   ],
   "source": [
    "%%timeit\n",
    "spark.createDataFrame(pandas_df, schema=schema)"
   ]
  },
  {
   "cell_type": "code",
   "execution_count": 30,
   "id": "3f931588",
   "metadata": {},
   "outputs": [
    {
     "name": "stdout",
     "output_type": "stream",
     "text": [
      "18.4 ms ± 966 µs per loop (mean ± std. dev. of 7 runs, 10 loops each)\n"
     ]
    }
   ],
   "source": [
    "%%timeit\n",
    "spark.createDataFrame(pandas_df)"
   ]
  },
  {
   "cell_type": "markdown",
   "id": "5769739f",
   "metadata": {},
   "source": [
    "### load cases from 311_data from sql"
   ]
  },
  {
   "cell_type": "code",
   "execution_count": 31,
   "id": "54618aed",
   "metadata": {},
   "outputs": [],
   "source": [
    "#sql query\n",
    "query = 'select * from cases limit 100000'"
   ]
  },
  {
   "cell_type": "code",
   "execution_count": 32,
   "id": "77ee891f",
   "metadata": {},
   "outputs": [],
   "source": [
    "#pandas df\n",
    "pandas_df = pd.read_sql(query, url)"
   ]
  },
  {
   "cell_type": "code",
   "execution_count": 33,
   "id": "cbb9b4e0",
   "metadata": {},
   "outputs": [
    {
     "data": {
      "text/plain": [
       "DataFrame[case_id: bigint, case_opened_date: string, case_closed_date: string, SLA_due_date: string, case_late: string, num_days_late: double, case_closed: string, dept_division: string, service_request_type: string, SLA_days: double, case_status: string, source_id: string, request_address: string, council_district: bigint]"
      ]
     },
     "execution_count": 33,
     "metadata": {},
     "output_type": "execute_result"
    }
   ],
   "source": [
    "#spark df\n",
    "df = spark.createDataFrame(pandas_df)\n",
    "df"
   ]
  },
  {
   "cell_type": "code",
   "execution_count": 34,
   "id": "47c4e583",
   "metadata": {},
   "outputs": [
    {
     "name": "stdout",
     "output_type": "stream",
     "text": [
      "22/10/21 12:50:36 WARN TaskSetManager: Stage 29 contains a task of very large size (1653 KiB). The maximum recommended task size is 1000 KiB.\n",
      "-RECORD 0-----------------------------------------------------\n",
      " case_id              | 1014127332                            \n",
      " case_opened_date     | 1/1/18 0:42                           \n",
      " case_closed_date     | 1/1/18 12:29                          \n",
      " SLA_due_date         | 9/26/20 0:42                          \n",
      " case_late            | NO                                    \n",
      " num_days_late        | -998.5087616                          \n",
      " case_closed          | YES                                   \n",
      " dept_division        | Field Operations                      \n",
      " service_request_type | Stray Animal                          \n",
      " SLA_days             | 999.0                                 \n",
      " case_status          | Closed                                \n",
      " source_id            | svcCRMLS                              \n",
      " request_address      | 2315  EL PASO ST, San Antonio, 78207  \n",
      " council_district     | 5                                     \n",
      "-RECORD 1-----------------------------------------------------\n",
      " case_id              | 1014127333                            \n",
      " case_opened_date     | 1/1/18 0:46                           \n",
      " case_closed_date     | 1/3/18 8:11                           \n",
      " SLA_due_date         | 1/5/18 8:30                           \n",
      " case_late            | NO                                    \n",
      " num_days_late        | -2.012604167                          \n",
      " case_closed          | YES                                   \n",
      " dept_division        | Storm Water                           \n",
      " service_request_type | Removal Of Obstruction                \n",
      " SLA_days             | 4.322222222                           \n",
      " case_status          | Closed                                \n",
      " source_id            | svcCRMSS                              \n",
      " request_address      | 2215  GOLIAD RD, San Antonio, 78223   \n",
      " council_district     | 3                                     \n",
      "-RECORD 2-----------------------------------------------------\n",
      " case_id              | 1014127334                            \n",
      " case_opened_date     | 1/1/18 0:48                           \n",
      " case_closed_date     | 1/2/18 7:57                           \n",
      " SLA_due_date         | 1/5/18 8:30                           \n",
      " case_late            | NO                                    \n",
      " num_days_late        | -3.022337963                          \n",
      " case_closed          | YES                                   \n",
      " dept_division        | Storm Water                           \n",
      " service_request_type | Removal Of Obstruction                \n",
      " SLA_days             | 4.320729167                           \n",
      " case_status          | Closed                                \n",
      " source_id            | svcCRMSS                              \n",
      " request_address      | 102  PALFREY ST W, San Antonio, 78223 \n",
      " council_district     | 3                                     \n",
      "only showing top 3 rows\n",
      "\n"
     ]
    }
   ],
   "source": [
    "df.show(3, vertical=True, truncate=False)"
   ]
  },
  {
   "cell_type": "code",
   "execution_count": 35,
   "id": "3431604a",
   "metadata": {},
   "outputs": [
    {
     "name": "stdout",
     "output_type": "stream",
     "text": [
      "root\n",
      " |-- case_id: long (nullable = true)\n",
      " |-- case_opened_date: string (nullable = true)\n",
      " |-- case_closed_date: string (nullable = true)\n",
      " |-- SLA_due_date: string (nullable = true)\n",
      " |-- case_late: string (nullable = true)\n",
      " |-- num_days_late: double (nullable = true)\n",
      " |-- case_closed: string (nullable = true)\n",
      " |-- dept_division: string (nullable = true)\n",
      " |-- service_request_type: string (nullable = true)\n",
      " |-- SLA_days: double (nullable = true)\n",
      " |-- case_status: string (nullable = true)\n",
      " |-- source_id: string (nullable = true)\n",
      " |-- request_address: string (nullable = true)\n",
      " |-- council_district: long (nullable = true)\n",
      "\n"
     ]
    }
   ],
   "source": [
    "df.printSchema()"
   ]
  },
  {
   "cell_type": "code",
   "execution_count": 36,
   "id": "88451544",
   "metadata": {},
   "outputs": [
    {
     "data": {
      "text/plain": [
       "[('case_id', 'bigint'),\n",
       " ('case_opened_date', 'string'),\n",
       " ('case_closed_date', 'string'),\n",
       " ('SLA_due_date', 'string'),\n",
       " ('case_late', 'string'),\n",
       " ('num_days_late', 'double'),\n",
       " ('case_closed', 'string'),\n",
       " ('dept_division', 'string'),\n",
       " ('service_request_type', 'string'),\n",
       " ('SLA_days', 'double'),\n",
       " ('case_status', 'string'),\n",
       " ('source_id', 'string'),\n",
       " ('request_address', 'string'),\n",
       " ('council_district', 'bigint')]"
      ]
     },
     "execution_count": 36,
     "metadata": {},
     "output_type": "execute_result"
    }
   ],
   "source": [
    "df.dtypes"
   ]
  },
  {
   "cell_type": "markdown",
   "id": "9df26f2f",
   "metadata": {},
   "source": [
    "## Prepare"
   ]
  },
  {
   "cell_type": "markdown",
   "id": "44c3f40e",
   "metadata": {},
   "source": [
    "- rename columns\n",
    "- correct datatypes\n",
    "- data transformation\n",
    "- make new features\n",
    "- join tables"
   ]
  },
  {
   "cell_type": "markdown",
   "id": "a0aec4fe",
   "metadata": {},
   "source": [
    "### rename columns"
   ]
  },
  {
   "cell_type": "code",
   "execution_count": 37,
   "id": "25b54053",
   "metadata": {},
   "outputs": [
    {
     "data": {
      "text/plain": [
       "['case_id',\n",
       " 'case_opened_date',\n",
       " 'case_closed_date',\n",
       " 'SLA_due_date',\n",
       " 'case_late',\n",
       " 'num_days_late',\n",
       " 'case_closed',\n",
       " 'dept_division',\n",
       " 'service_request_type',\n",
       " 'SLA_days',\n",
       " 'case_status',\n",
       " 'source_id',\n",
       " 'request_address',\n",
       " 'council_district']"
      ]
     },
     "execution_count": 37,
     "metadata": {},
     "output_type": "execute_result"
    }
   ],
   "source": [
    "df.columns"
   ]
  },
  {
   "cell_type": "markdown",
   "id": "0a5929b1",
   "metadata": {},
   "source": [
    "#### change SLA_due_date to case_due_date"
   ]
  },
  {
   "cell_type": "code",
   "execution_count": 38,
   "id": "fbef8b73",
   "metadata": {},
   "outputs": [
    {
     "data": {
      "text/plain": [
       "DataFrame[case_id: bigint, case_opened_date: string, case_closed_date: string, case_due_date: string, case_late: string, num_days_late: double, case_closed: string, dept_division: string, service_request_type: string, SLA_days: double, case_status: string, source_id: string, request_address: string, council_district: bigint]"
      ]
     },
     "execution_count": 38,
     "metadata": {},
     "output_type": "execute_result"
    }
   ],
   "source": [
    "df = df.withColumnRenamed('SLA_due_date', 'case_due_date')\n",
    "df"
   ]
  },
  {
   "cell_type": "code",
   "execution_count": 39,
   "id": "0e98a42a",
   "metadata": {},
   "outputs": [
    {
     "data": {
      "text/plain": [
       "['case_id',\n",
       " 'case_opened_date',\n",
       " 'case_closed_date',\n",
       " 'case_due_date',\n",
       " 'case_late',\n",
       " 'num_days_late',\n",
       " 'case_closed',\n",
       " 'dept_division',\n",
       " 'service_request_type',\n",
       " 'SLA_days',\n",
       " 'case_status',\n",
       " 'source_id',\n",
       " 'request_address',\n",
       " 'council_district']"
      ]
     },
     "execution_count": 39,
     "metadata": {},
     "output_type": "execute_result"
    }
   ],
   "source": [
    "df.columns"
   ]
  },
  {
   "cell_type": "markdown",
   "id": "a98297cf",
   "metadata": {},
   "source": [
    "### correct datatypes"
   ]
  },
  {
   "cell_type": "code",
   "execution_count": 40,
   "id": "fb2b8ec3",
   "metadata": {},
   "outputs": [
    {
     "name": "stdout",
     "output_type": "stream",
     "text": [
      "22/10/21 12:50:36 WARN TaskSetManager: Stage 30 contains a task of very large size (1653 KiB). The maximum recommended task size is 1000 KiB.\n",
      "-RECORD 0----------------------------------------------------\n",
      " case_id              | 1014127332                           \n",
      " case_opened_date     | 1/1/18 0:42                          \n",
      " case_closed_date     | 1/1/18 12:29                         \n",
      " case_due_date        | 9/26/20 0:42                         \n",
      " case_late            | NO                                   \n",
      " num_days_late        | -998.5087616                         \n",
      " case_closed          | YES                                  \n",
      " dept_division        | Field Operations                     \n",
      " service_request_type | Stray Animal                         \n",
      " SLA_days             | 999.0                                \n",
      " case_status          | Closed                               \n",
      " source_id            | svcCRMLS                             \n",
      " request_address      | 2315  EL PASO ST, San Antonio, 78207 \n",
      " council_district     | 5                                    \n",
      "-RECORD 1----------------------------------------------------\n",
      " case_id              | 1014127333                           \n",
      " case_opened_date     | 1/1/18 0:46                          \n",
      " case_closed_date     | 1/3/18 8:11                          \n",
      " case_due_date        | 1/5/18 8:30                          \n",
      " case_late            | NO                                   \n",
      " num_days_late        | -2.012604167                         \n",
      " case_closed          | YES                                  \n",
      " dept_division        | Storm Water                          \n",
      " service_request_type | Removal Of Obstruction               \n",
      " SLA_days             | 4.322222222                          \n",
      " case_status          | Closed                               \n",
      " source_id            | svcCRMSS                             \n",
      " request_address      | 2215  GOLIAD RD, San Antonio, 78223  \n",
      " council_district     | 3                                    \n",
      "only showing top 2 rows\n",
      "\n"
     ]
    }
   ],
   "source": [
    "df.show(2, vertical=True, truncate=False)"
   ]
  },
  {
   "cell_type": "code",
   "execution_count": 41,
   "id": "6e76d395",
   "metadata": {},
   "outputs": [
    {
     "data": {
      "text/plain": [
       "[('case_id', 'bigint'),\n",
       " ('case_opened_date', 'string'),\n",
       " ('case_closed_date', 'string'),\n",
       " ('case_due_date', 'string'),\n",
       " ('case_late', 'string'),\n",
       " ('num_days_late', 'double'),\n",
       " ('case_closed', 'string'),\n",
       " ('dept_division', 'string'),\n",
       " ('service_request_type', 'string'),\n",
       " ('SLA_days', 'double'),\n",
       " ('case_status', 'string'),\n",
       " ('source_id', 'string'),\n",
       " ('request_address', 'string'),\n",
       " ('council_district', 'bigint')]"
      ]
     },
     "execution_count": 41,
     "metadata": {},
     "output_type": "execute_result"
    }
   ],
   "source": [
    "df.dtypes"
   ]
  },
  {
   "cell_type": "markdown",
   "id": "50584b86",
   "metadata": {},
   "source": [
    "#### change close_closed and case_late columns into boolean values"
   ]
  },
  {
   "cell_type": "code",
   "execution_count": 42,
   "id": "d2b6d5e4",
   "metadata": {},
   "outputs": [
    {
     "name": "stdout",
     "output_type": "stream",
     "text": [
      "22/10/21 12:50:36 WARN TaskSetManager: Stage 31 contains a task of very large size (1653 KiB). The maximum recommended task size is 1000 KiB.\n"
     ]
    },
    {
     "name": "stderr",
     "output_type": "stream",
     "text": [
      "[Stage 31:===========>                                             (2 + 8) / 10]\r"
     ]
    },
    {
     "name": "stdout",
     "output_type": "stream",
     "text": [
      "+-----------+\n",
      "|case_closed|\n",
      "+-----------+\n",
      "|        YES|\n",
      "|         NO|\n",
      "+-----------+\n",
      "\n"
     ]
    },
    {
     "name": "stderr",
     "output_type": "stream",
     "text": [
      "\r",
      "                                                                                \r"
     ]
    }
   ],
   "source": [
    "df.select('case_closed').distinct().show()"
   ]
  },
  {
   "cell_type": "code",
   "execution_count": 43,
   "id": "8b352f69",
   "metadata": {},
   "outputs": [
    {
     "name": "stdout",
     "output_type": "stream",
     "text": [
      "22/10/21 12:50:39 WARN TaskSetManager: Stage 34 contains a task of very large size (1653 KiB). The maximum recommended task size is 1000 KiB.\n"
     ]
    },
    {
     "name": "stderr",
     "output_type": "stream",
     "text": [
      "\r",
      "[Stage 34:>                                                       (0 + 10) / 10]\r"
     ]
    },
    {
     "name": "stdout",
     "output_type": "stream",
     "text": [
      "+---------+\n",
      "|case_late|\n",
      "+---------+\n",
      "|      YES|\n",
      "|       NO|\n",
      "+---------+\n",
      "\n"
     ]
    },
    {
     "name": "stderr",
     "output_type": "stream",
     "text": [
      "\r",
      "                                                                                \r"
     ]
    }
   ],
   "source": [
    "df.select('case_late').distinct().show()"
   ]
  },
  {
   "cell_type": "code",
   "execution_count": 44,
   "id": "66b0b1fa",
   "metadata": {},
   "outputs": [],
   "source": [
    "#use condition to make true and false\n",
    "test= df.withColumn('case_closed',\n",
    "             expr('case_closed == \"YES\"')\n",
    "             ).select('case_closed').distinct()"
   ]
  },
  {
   "cell_type": "code",
   "execution_count": 45,
   "id": "78b6eb2d",
   "metadata": {},
   "outputs": [
    {
     "name": "stdout",
     "output_type": "stream",
     "text": [
      "22/10/21 12:50:41 WARN TaskSetManager: Stage 37 contains a task of very large size (1653 KiB). The maximum recommended task size is 1000 KiB.\n"
     ]
    },
    {
     "name": "stderr",
     "output_type": "stream",
     "text": [
      "\r",
      "[Stage 37:>                                                       (0 + 10) / 10]\r"
     ]
    },
    {
     "name": "stdout",
     "output_type": "stream",
     "text": [
      "+-----------+\n",
      "|case_closed|\n",
      "+-----------+\n",
      "|       true|\n",
      "|      false|\n",
      "+-----------+\n",
      "\n"
     ]
    },
    {
     "name": "stderr",
     "output_type": "stream",
     "text": [
      "\r",
      "                                                                                \r"
     ]
    }
   ],
   "source": [
    "test.show()"
   ]
  },
  {
   "cell_type": "code",
   "execution_count": 46,
   "id": "1f43f874",
   "metadata": {},
   "outputs": [
    {
     "data": {
      "text/plain": [
       "pyspark.sql.dataframe.DataFrame"
      ]
     },
     "execution_count": 46,
     "metadata": {},
     "output_type": "execute_result"
    }
   ],
   "source": [
    "type(test)"
   ]
  },
  {
   "cell_type": "code",
   "execution_count": 47,
   "id": "b6f1fecf",
   "metadata": {},
   "outputs": [
    {
     "data": {
      "text/plain": [
       "DataFrame[case_id: bigint, case_opened_date: string, case_closed_date: string, case_due_date: string, case_late: string, num_days_late: double, case_closed: boolean, dept_division: string, service_request_type: string, SLA_days: double, case_status: string, source_id: string, request_address: string, council_district: bigint]"
      ]
     },
     "execution_count": 47,
     "metadata": {},
     "output_type": "execute_result"
    }
   ],
   "source": [
    "df = df.withColumn('case_closed', expr('case_closed == \"YES\"'))\n",
    "df"
   ]
  },
  {
   "cell_type": "code",
   "execution_count": 48,
   "id": "ed456ec0",
   "metadata": {},
   "outputs": [
    {
     "data": {
      "text/plain": [
       "DataFrame[case_id: bigint, case_opened_date: string, case_closed_date: string, case_due_date: string, case_late: boolean, num_days_late: double, case_closed: boolean, dept_division: string, service_request_type: string, SLA_days: double, case_status: string, source_id: string, request_address: string, council_district: bigint]"
      ]
     },
     "execution_count": 48,
     "metadata": {},
     "output_type": "execute_result"
    }
   ],
   "source": [
    "df = df.withColumn('case_late', expr('case_late == \"YES\"'))\n",
    "df"
   ]
  },
  {
   "cell_type": "code",
   "execution_count": 49,
   "id": "0c3acee6",
   "metadata": {},
   "outputs": [
    {
     "name": "stdout",
     "output_type": "stream",
     "text": [
      "22/10/21 12:50:42 WARN TaskSetManager: Stage 40 contains a task of very large size (1653 KiB). The maximum recommended task size is 1000 KiB.\n"
     ]
    },
    {
     "name": "stderr",
     "output_type": "stream",
     "text": [
      "\r",
      "[Stage 40:>                                                       (0 + 10) / 10]\r"
     ]
    },
    {
     "name": "stdout",
     "output_type": "stream",
     "text": [
      "+-----------+---------+\n",
      "|case_closed|case_late|\n",
      "+-----------+---------+\n",
      "|       true|    false|\n",
      "|       true|     true|\n",
      "|      false|    false|\n",
      "|      false|     true|\n",
      "+-----------+---------+\n",
      "\n"
     ]
    },
    {
     "name": "stderr",
     "output_type": "stream",
     "text": [
      "\r",
      "                                                                                \r"
     ]
    }
   ],
   "source": [
    "df.select('case_closed', 'case_late').distinct().show()"
   ]
  },
  {
   "cell_type": "code",
   "execution_count": 50,
   "id": "bf81ed3f",
   "metadata": {},
   "outputs": [
    {
     "data": {
      "text/plain": [
       "[('case_id', 'bigint'),\n",
       " ('case_opened_date', 'string'),\n",
       " ('case_closed_date', 'string'),\n",
       " ('case_due_date', 'string'),\n",
       " ('case_late', 'boolean'),\n",
       " ('num_days_late', 'double'),\n",
       " ('case_closed', 'boolean'),\n",
       " ('dept_division', 'string'),\n",
       " ('service_request_type', 'string'),\n",
       " ('SLA_days', 'double'),\n",
       " ('case_status', 'string'),\n",
       " ('source_id', 'string'),\n",
       " ('request_address', 'string'),\n",
       " ('council_district', 'bigint')]"
      ]
     },
     "execution_count": 50,
     "metadata": {},
     "output_type": "execute_result"
    }
   ],
   "source": [
    "df.dtypes"
   ]
  },
  {
   "cell_type": "markdown",
   "id": "3c65df82",
   "metadata": {},
   "source": [
    "#### change council_district datatype to string"
   ]
  },
  {
   "cell_type": "code",
   "execution_count": 51,
   "id": "bf346cf0",
   "metadata": {},
   "outputs": [
    {
     "name": "stdout",
     "output_type": "stream",
     "text": [
      "22/10/21 12:50:44 WARN TaskSetManager: Stage 43 contains a task of very large size (1653 KiB). The maximum recommended task size is 1000 KiB.\n"
     ]
    },
    {
     "name": "stderr",
     "output_type": "stream",
     "text": [
      "\r",
      "[Stage 43:>                                                       (0 + 10) / 10]\r"
     ]
    },
    {
     "name": "stdout",
     "output_type": "stream",
     "text": [
      "+----------------+-----+\n",
      "|council_district|count|\n",
      "+----------------+-----+\n",
      "|               0|  511|\n",
      "|               7| 8010|\n",
      "|               6| 8385|\n",
      "|               9| 4773|\n",
      "|               5|13404|\n",
      "|               1|14640|\n",
      "|              10| 6888|\n",
      "|               3|11813|\n",
      "|               8| 4980|\n",
      "|               2|13619|\n",
      "|               4|12977|\n",
      "+----------------+-----+\n",
      "\n"
     ]
    },
    {
     "name": "stderr",
     "output_type": "stream",
     "text": [
      "\r",
      "                                                                                \r"
     ]
    }
   ],
   "source": [
    "df.groupby('council_district').count().show()"
   ]
  },
  {
   "cell_type": "code",
   "execution_count": 52,
   "id": "9655ab9c",
   "metadata": {},
   "outputs": [
    {
     "data": {
      "text/plain": [
       "DataFrame[case_id: bigint, case_opened_date: string, case_closed_date: string, case_due_date: string, case_late: boolean, num_days_late: double, case_closed: boolean, dept_division: string, service_request_type: string, SLA_days: double, case_status: string, source_id: string, request_address: string, council_district: string]"
      ]
     },
     "execution_count": 52,
     "metadata": {},
     "output_type": "execute_result"
    }
   ],
   "source": [
    "#use .cast()\n",
    "df = df.withColumn('council_district', \n",
    "                   col('council_district').cast('string')\n",
    "                  )\n",
    "df"
   ]
  },
  {
   "cell_type": "code",
   "execution_count": 53,
   "id": "7da768e5",
   "metadata": {},
   "outputs": [
    {
     "data": {
      "text/plain": [
       "[('case_id', 'bigint'),\n",
       " ('case_opened_date', 'string'),\n",
       " ('case_closed_date', 'string'),\n",
       " ('case_due_date', 'string'),\n",
       " ('case_late', 'boolean'),\n",
       " ('num_days_late', 'double'),\n",
       " ('case_closed', 'boolean'),\n",
       " ('dept_division', 'string'),\n",
       " ('service_request_type', 'string'),\n",
       " ('SLA_days', 'double'),\n",
       " ('case_status', 'string'),\n",
       " ('source_id', 'string'),\n",
       " ('request_address', 'string'),\n",
       " ('council_district', 'string')]"
      ]
     },
     "execution_count": 53,
     "metadata": {},
     "output_type": "execute_result"
    }
   ],
   "source": [
    "df.dtypes"
   ]
  },
  {
   "cell_type": "markdown",
   "id": "e7d21ecb",
   "metadata": {},
   "source": [
    "#### change dates to datetype"
   ]
  },
  {
   "cell_type": "code",
   "execution_count": 54,
   "id": "b1f90d96",
   "metadata": {},
   "outputs": [
    {
     "name": "stdout",
     "output_type": "stream",
     "text": [
      "22/10/21 12:50:46 WARN TaskSetManager: Stage 46 contains a task of very large size (1653 KiB). The maximum recommended task size is 1000 KiB.\n",
      "+----------------+----------------+-------------+\n",
      "|case_opened_date|case_closed_date|case_due_date|\n",
      "+----------------+----------------+-------------+\n",
      "|     1/1/18 0:42|    1/1/18 12:29| 9/26/20 0:42|\n",
      "|     1/1/18 0:46|     1/3/18 8:11|  1/5/18 8:30|\n",
      "|     1/1/18 0:48|     1/2/18 7:57|  1/5/18 8:30|\n",
      "|     1/1/18 1:29|     1/2/18 8:13| 1/17/18 8:30|\n",
      "|     1/1/18 1:34|    1/1/18 13:29|  1/1/18 4:34|\n",
      "+----------------+----------------+-------------+\n",
      "only showing top 5 rows\n",
      "\n"
     ]
    }
   ],
   "source": [
    "df.select('case_opened_date', 'case_closed_date', 'case_due_date').show(5)"
   ]
  },
  {
   "cell_type": "markdown",
   "id": "91d94432",
   "metadata": {},
   "source": [
    "format date strings: https://docs.oracle.com/javase/10/docs/api/java/time/format/DateTimeFormatter.html"
   ]
  },
  {
   "cell_type": "code",
   "execution_count": 55,
   "id": "8093fa25",
   "metadata": {},
   "outputs": [
    {
     "name": "stdout",
     "output_type": "stream",
     "text": [
      "22/10/21 12:50:46 WARN TaskSetManager: Stage 47 contains a task of very large size (1653 KiB). The maximum recommended task size is 1000 KiB.\n",
      "+----------------+\n",
      "|case_opened_date|\n",
      "+----------------+\n",
      "|            null|\n",
      "|            null|\n",
      "|            null|\n",
      "|            null|\n",
      "|            null|\n",
      "+----------------+\n",
      "only showing top 5 rows\n",
      "\n"
     ]
    }
   ],
   "source": [
    "#use to_timestamp\n",
    "df.withColumn('case_opened_date', to_timestamp('case_opened_date'))\\\n",
    ".select('case_opened_date').show(5)"
   ]
  },
  {
   "cell_type": "code",
   "execution_count": 56,
   "id": "b44d029c",
   "metadata": {},
   "outputs": [],
   "source": [
    "fmt = 'M/d/yy H:m'"
   ]
  },
  {
   "cell_type": "code",
   "execution_count": 57,
   "id": "b54716b1",
   "metadata": {},
   "outputs": [
    {
     "name": "stdout",
     "output_type": "stream",
     "text": [
      "22/10/21 12:50:46 WARN TaskSetManager: Stage 48 contains a task of very large size (1653 KiB). The maximum recommended task size is 1000 KiB.\n",
      "+-------------------+\n",
      "|   case_opened_date|\n",
      "+-------------------+\n",
      "|2018-01-01 00:42:00|\n",
      "|2018-01-01 00:46:00|\n",
      "|2018-01-01 00:48:00|\n",
      "|2018-01-01 01:29:00|\n",
      "|2018-01-01 01:34:00|\n",
      "+-------------------+\n",
      "only showing top 5 rows\n",
      "\n"
     ]
    }
   ],
   "source": [
    "df.withColumn('case_opened_date', to_timestamp('case_opened_date', fmt))\\\n",
    ".select('case_opened_date').show(5)"
   ]
  },
  {
   "cell_type": "code",
   "execution_count": 58,
   "id": "2d311369",
   "metadata": {},
   "outputs": [],
   "source": [
    "df =(\n",
    "    df.withColumn('case_opened_date', to_timestamp('case_opened_date', fmt))\n",
    "    .withColumn('case_closed_date', to_timestamp('case_closed_date', fmt))\n",
    "    .withColumn('case_due_date', to_timestamp('case_due_date', fmt))\n",
    ")"
   ]
  },
  {
   "cell_type": "code",
   "execution_count": 59,
   "id": "cb61087d",
   "metadata": {},
   "outputs": [
    {
     "name": "stdout",
     "output_type": "stream",
     "text": [
      "22/10/21 12:50:46 WARN TaskSetManager: Stage 49 contains a task of very large size (1653 KiB). The maximum recommended task size is 1000 KiB.\n",
      "+-------------------+-------------------+-------------------+\n",
      "|   case_opened_date|   case_closed_date|      case_due_date|\n",
      "+-------------------+-------------------+-------------------+\n",
      "|2018-01-01 00:42:00|2018-01-01 12:29:00|2020-09-26 00:42:00|\n",
      "|2018-01-01 00:46:00|2018-01-03 08:11:00|2018-01-05 08:30:00|\n",
      "|2018-01-01 00:48:00|2018-01-02 07:57:00|2018-01-05 08:30:00|\n",
      "|2018-01-01 01:29:00|2018-01-02 08:13:00|2018-01-17 08:30:00|\n",
      "|2018-01-01 01:34:00|2018-01-01 13:29:00|2018-01-01 04:34:00|\n",
      "+-------------------+-------------------+-------------------+\n",
      "only showing top 5 rows\n",
      "\n"
     ]
    }
   ],
   "source": [
    "df.select('case_opened_date', 'case_closed_date', 'case_due_date').show(5)"
   ]
  },
  {
   "cell_type": "code",
   "execution_count": 60,
   "id": "df4a761b",
   "metadata": {},
   "outputs": [
    {
     "data": {
      "text/plain": [
       "[('case_id', 'bigint'),\n",
       " ('case_opened_date', 'timestamp'),\n",
       " ('case_closed_date', 'timestamp'),\n",
       " ('case_due_date', 'timestamp'),\n",
       " ('case_late', 'boolean'),\n",
       " ('num_days_late', 'double'),\n",
       " ('case_closed', 'boolean'),\n",
       " ('dept_division', 'string'),\n",
       " ('service_request_type', 'string'),\n",
       " ('SLA_days', 'double'),\n",
       " ('case_status', 'string'),\n",
       " ('source_id', 'string'),\n",
       " ('request_address', 'string'),\n",
       " ('council_district', 'string')]"
      ]
     },
     "execution_count": 60,
     "metadata": {},
     "output_type": "execute_result"
    }
   ],
   "source": [
    "df.dtypes"
   ]
  },
  {
   "cell_type": "markdown",
   "id": "4cbca0fd",
   "metadata": {},
   "source": [
    "### data transformation"
   ]
  },
  {
   "cell_type": "markdown",
   "id": "86cd01a0",
   "metadata": {},
   "source": [
    "#### normalize address\n",
    "- `lower`: lowercase everything\n",
    "- `trim`: remove whitespace on the edges "
   ]
  },
  {
   "cell_type": "code",
   "execution_count": 61,
   "id": "9ad16536",
   "metadata": {},
   "outputs": [
    {
     "name": "stdout",
     "output_type": "stream",
     "text": [
      "22/10/21 12:50:46 WARN TaskSetManager: Stage 50 contains a task of very large size (1653 KiB). The maximum recommended task size is 1000 KiB.\n",
      "+-------------------------------------+\n",
      "|request_address                      |\n",
      "+-------------------------------------+\n",
      "|2315  EL PASO ST, San Antonio, 78207 |\n",
      "|2215  GOLIAD RD, San Antonio, 78223  |\n",
      "|102  PALFREY ST W, San Antonio, 78223|\n",
      "|114  LA GARDE ST, San Antonio, 78223 |\n",
      "|734  CLEARVIEW DR, San Antonio, 78228|\n",
      "+-------------------------------------+\n",
      "only showing top 5 rows\n",
      "\n"
     ]
    }
   ],
   "source": [
    "df.select('request_address').show(5, truncate=False)"
   ]
  },
  {
   "cell_type": "code",
   "execution_count": 62,
   "id": "8de4b8ef",
   "metadata": {},
   "outputs": [
    {
     "name": "stdout",
     "output_type": "stream",
     "text": [
      "22/10/21 12:50:46 WARN TaskSetManager: Stage 51 contains a task of very large size (1653 KiB). The maximum recommended task size is 1000 KiB.\n",
      "+--------------------+\n",
      "|     request_address|\n",
      "+--------------------+\n",
      "|2315  el paso st,...|\n",
      "|2215  goliad rd, ...|\n",
      "|102  palfrey st w...|\n",
      "|114  la garde st,...|\n",
      "|734  clearview dr...|\n",
      "+--------------------+\n",
      "only showing top 5 rows\n",
      "\n"
     ]
    }
   ],
   "source": [
    "df.withColumn('request_address', trim(lower('request_address')))\\\n",
    ".select('request_address').show(5)"
   ]
  },
  {
   "cell_type": "code",
   "execution_count": 63,
   "id": "2aecd184",
   "metadata": {},
   "outputs": [
    {
     "data": {
      "text/plain": [
       "DataFrame[case_id: bigint, case_opened_date: timestamp, case_closed_date: timestamp, case_due_date: timestamp, case_late: boolean, num_days_late: double, case_closed: boolean, dept_division: string, service_request_type: string, SLA_days: double, case_status: string, source_id: string, request_address: string, council_district: string]"
      ]
     },
     "execution_count": 63,
     "metadata": {},
     "output_type": "execute_result"
    }
   ],
   "source": [
    "df = df.withColumn('request_address', trim(lower('request_address')))\n",
    "df"
   ]
  },
  {
   "cell_type": "code",
   "execution_count": 64,
   "id": "37ef1483",
   "metadata": {},
   "outputs": [
    {
     "name": "stdout",
     "output_type": "stream",
     "text": [
      "22/10/21 12:50:46 WARN TaskSetManager: Stage 52 contains a task of very large size (1653 KiB). The maximum recommended task size is 1000 KiB.\n",
      "+-------------------------------------+\n",
      "|request_address                      |\n",
      "+-------------------------------------+\n",
      "|2315  el paso st, san antonio, 78207 |\n",
      "|2215  goliad rd, san antonio, 78223  |\n",
      "|102  palfrey st w, san antonio, 78223|\n",
      "|114  la garde st, san antonio, 78223 |\n",
      "|734  clearview dr, san antonio, 78228|\n",
      "+-------------------------------------+\n",
      "only showing top 5 rows\n",
      "\n"
     ]
    }
   ],
   "source": [
    "df.select('request_address').show(5, truncate=False)"
   ]
  },
  {
   "cell_type": "markdown",
   "id": "d56bd761",
   "metadata": {},
   "source": [
    "#### change num_days_late to num_weeks_late"
   ]
  },
  {
   "cell_type": "code",
   "execution_count": 74,
   "id": "07563a69",
   "metadata": {},
   "outputs": [
    {
     "name": "stdout",
     "output_type": "stream",
     "text": [
      "22/10/21 13:32:52 WARN TaskSetManager: Stage 53 contains a task of very large size (1653 KiB). The maximum recommended task size is 1000 KiB.\n",
      "+-------------+\n",
      "|num_days_late|\n",
      "+-------------+\n",
      "| -998.5087616|\n",
      "| -2.012604167|\n",
      "| -3.022337963|\n",
      "| -15.01148148|\n",
      "|  0.372164352|\n",
      "+-------------+\n",
      "only showing top 5 rows\n",
      "\n"
     ]
    }
   ],
   "source": [
    "df.select('num_days_late').show(5)"
   ]
  },
  {
   "cell_type": "code",
   "execution_count": 77,
   "id": "9bf5d0f5",
   "metadata": {},
   "outputs": [],
   "source": [
    "df = df.withColumn('num_weeks_late', expr('num_days_late / 7'))"
   ]
  },
  {
   "cell_type": "code",
   "execution_count": 78,
   "id": "023843b3",
   "metadata": {},
   "outputs": [
    {
     "name": "stdout",
     "output_type": "stream",
     "text": [
      "22/10/21 13:34:45 WARN TaskSetManager: Stage 56 contains a task of very large size (1653 KiB). The maximum recommended task size is 1000 KiB.\n",
      "+-------------+--------------------+\n",
      "|num_days_late|      num_weeks_late|\n",
      "+-------------+--------------------+\n",
      "| -998.5087616|        -142.6441088|\n",
      "| -2.012604167|        -0.287514881|\n",
      "| -3.022337963|-0.43176256614285713|\n",
      "| -15.01148148| -2.1444973542857144|\n",
      "|  0.372164352|0.053166335999999995|\n",
      "+-------------+--------------------+\n",
      "only showing top 5 rows\n",
      "\n"
     ]
    }
   ],
   "source": [
    "df.select('num_days_late', 'num_weeks_late').show(5)"
   ]
  },
  {
   "cell_type": "code",
   "execution_count": 82,
   "id": "38fa7a4e",
   "metadata": {},
   "outputs": [
    {
     "data": {
      "text/plain": [
       "['case_id',\n",
       " 'case_opened_date',\n",
       " 'case_closed_date',\n",
       " 'case_due_date',\n",
       " 'case_late',\n",
       " 'case_closed',\n",
       " 'dept_division',\n",
       " 'service_request_type',\n",
       " 'SLA_days',\n",
       " 'case_status',\n",
       " 'source_id',\n",
       " 'request_address',\n",
       " 'council_district',\n",
       " 'num_weeks_late']"
      ]
     },
     "execution_count": 82,
     "metadata": {},
     "output_type": "execute_result"
    }
   ],
   "source": [
    "df.drop('num_days_late').columns"
   ]
  },
  {
   "cell_type": "markdown",
   "id": "201bc28f",
   "metadata": {},
   "source": [
    "#### change council_district to int and pad with 00s"
   ]
  },
  {
   "cell_type": "code",
   "execution_count": 84,
   "id": "d6b0acd7",
   "metadata": {},
   "outputs": [
    {
     "name": "stdout",
     "output_type": "stream",
     "text": [
      "22/10/21 13:36:24 WARN TaskSetManager: Stage 60 contains a task of very large size (1653 KiB). The maximum recommended task size is 1000 KiB.\n"
     ]
    },
    {
     "name": "stderr",
     "output_type": "stream",
     "text": [
      "\r",
      "[Stage 60:>                                                       (0 + 10) / 10]\r"
     ]
    },
    {
     "name": "stdout",
     "output_type": "stream",
     "text": [
      "+----------------+\n",
      "|council_district|\n",
      "+----------------+\n",
      "|               7|\n",
      "|               3|\n",
      "|               8|\n",
      "|               0|\n",
      "|               5|\n",
      "|               6|\n",
      "|               9|\n",
      "|               1|\n",
      "|              10|\n",
      "|               4|\n",
      "|               2|\n",
      "+----------------+\n",
      "\n"
     ]
    },
    {
     "name": "stderr",
     "output_type": "stream",
     "text": [
      "\r",
      "                                                                                \r"
     ]
    }
   ],
   "source": [
    "df.select('council_district').distinct().show()"
   ]
  },
  {
   "cell_type": "code",
   "execution_count": 91,
   "id": "5a37e22c",
   "metadata": {},
   "outputs": [],
   "source": [
    "# '%03d' means at least 3 digits, pad with 0s\n",
    "df = df.withColumn('council_district', \n",
    "             format_string('%03d', col('council_district').cast('int') ))"
   ]
  },
  {
   "cell_type": "code",
   "execution_count": 95,
   "id": "d6260beb",
   "metadata": {},
   "outputs": [
    {
     "name": "stdout",
     "output_type": "stream",
     "text": [
      "22/10/21 13:40:30 WARN TaskSetManager: Stage 70 contains a task of very large size (1653 KiB). The maximum recommended task size is 1000 KiB.\n"
     ]
    },
    {
     "name": "stderr",
     "output_type": "stream",
     "text": [
      "\r",
      "[Stage 70:>                                                       (0 + 10) / 10]\r"
     ]
    },
    {
     "name": "stdout",
     "output_type": "stream",
     "text": [
      "+----------------+\n",
      "|council_district|\n",
      "+----------------+\n",
      "|             009|\n",
      "|             006|\n",
      "|             005|\n",
      "|             003|\n",
      "|             008|\n",
      "|             001|\n",
      "|             010|\n",
      "|             004|\n",
      "|             000|\n",
      "|             007|\n",
      "|             002|\n",
      "+----------------+\n",
      "\n"
     ]
    },
    {
     "name": "stderr",
     "output_type": "stream",
     "text": [
      "\r",
      "                                                                                \r"
     ]
    }
   ],
   "source": [
    "df.select('council_district').distinct().show()"
   ]
  },
  {
   "cell_type": "code",
   "execution_count": 96,
   "id": "395424d5",
   "metadata": {},
   "outputs": [
    {
     "data": {
      "text/plain": [
       "[('case_id', 'bigint'),\n",
       " ('case_opened_date', 'timestamp'),\n",
       " ('case_closed_date', 'timestamp'),\n",
       " ('case_due_date', 'timestamp'),\n",
       " ('case_late', 'boolean'),\n",
       " ('num_days_late', 'double'),\n",
       " ('case_closed', 'boolean'),\n",
       " ('dept_division', 'string'),\n",
       " ('service_request_type', 'string'),\n",
       " ('SLA_days', 'double'),\n",
       " ('case_status', 'string'),\n",
       " ('source_id', 'string'),\n",
       " ('request_address', 'string'),\n",
       " ('council_district', 'string'),\n",
       " ('num_weeks_late', 'double')]"
      ]
     },
     "execution_count": 96,
     "metadata": {},
     "output_type": "execute_result"
    }
   ],
   "source": [
    "df.dtypes"
   ]
  },
  {
   "cell_type": "code",
   "execution_count": 99,
   "id": "3575c7ba",
   "metadata": {},
   "outputs": [
    {
     "name": "stdout",
     "output_type": "stream",
     "text": [
      "22/10/21 13:40:57 WARN TaskSetManager: Stage 75 contains a task of very large size (1653 KiB). The maximum recommended task size is 1000 KiB.\n",
      "-RECORD 0------------------------------------\n",
      " case_id              | 1014127332           \n",
      " case_opened_date     | 2018-01-01 00:42:00  \n",
      " case_closed_date     | 2018-01-01 12:29:00  \n",
      " case_due_date        | 2020-09-26 00:42:00  \n",
      " case_late            | false                \n",
      " num_days_late        | -998.5087616         \n",
      " case_closed          | true                 \n",
      " dept_division        | Field Operations     \n",
      " service_request_type | Stray Animal         \n",
      " SLA_days             | 999.0                \n",
      " case_status          | Closed               \n",
      " source_id            | svcCRMLS             \n",
      " request_address      | 2315  el paso st,... \n",
      " council_district     | 005                  \n",
      " num_weeks_late       | -142.6441088         \n",
      "-RECORD 1------------------------------------\n",
      " case_id              | 1014127333           \n",
      " case_opened_date     | 2018-01-01 00:46:00  \n",
      " case_closed_date     | 2018-01-03 08:11:00  \n",
      " case_due_date        | 2018-01-05 08:30:00  \n",
      " case_late            | false                \n",
      " num_days_late        | -2.012604167         \n",
      " case_closed          | true                 \n",
      " dept_division        | Storm Water          \n",
      " service_request_type | Removal Of Obstru... \n",
      " SLA_days             | 4.322222222          \n",
      " case_status          | Closed               \n",
      " source_id            | svcCRMSS             \n",
      " request_address      | 2215  goliad rd, ... \n",
      " council_district     | 003                  \n",
      " num_weeks_late       | -0.287514881         \n",
      "only showing top 2 rows\n",
      "\n"
     ]
    }
   ],
   "source": [
    "df.show(vertical=True, n=2)"
   ]
  },
  {
   "cell_type": "markdown",
   "id": "37ecc429",
   "metadata": {},
   "source": [
    "### new features"
   ]
  },
  {
   "cell_type": "code",
   "execution_count": 100,
   "id": "70c291b9",
   "metadata": {},
   "outputs": [
    {
     "data": {
      "text/plain": [
       "['case_id',\n",
       " 'case_opened_date',\n",
       " 'case_closed_date',\n",
       " 'case_due_date',\n",
       " 'case_late',\n",
       " 'num_days_late',\n",
       " 'case_closed',\n",
       " 'dept_division',\n",
       " 'service_request_type',\n",
       " 'SLA_days',\n",
       " 'case_status',\n",
       " 'source_id',\n",
       " 'request_address',\n",
       " 'council_district',\n",
       " 'num_weeks_late']"
      ]
     },
     "execution_count": 100,
     "metadata": {},
     "output_type": "execute_result"
    }
   ],
   "source": [
    "df.columns"
   ]
  },
  {
   "cell_type": "markdown",
   "id": "7059b9f5",
   "metadata": {},
   "source": [
    "#### create zip code column"
   ]
  },
  {
   "cell_type": "code",
   "execution_count": 102,
   "id": "418fe62c",
   "metadata": {},
   "outputs": [
    {
     "name": "stdout",
     "output_type": "stream",
     "text": [
      "22/10/21 13:41:45 WARN TaskSetManager: Stage 77 contains a task of very large size (1653 KiB). The maximum recommended task size is 1000 KiB.\n",
      "+-------------------------------------+\n",
      "|request_address                      |\n",
      "+-------------------------------------+\n",
      "|2315  el paso st, san antonio, 78207 |\n",
      "|2215  goliad rd, san antonio, 78223  |\n",
      "|102  palfrey st w, san antonio, 78223|\n",
      "|114  la garde st, san antonio, 78223 |\n",
      "|734  clearview dr, san antonio, 78228|\n",
      "+-------------------------------------+\n",
      "only showing top 5 rows\n",
      "\n"
     ]
    }
   ],
   "source": [
    "df.select('request_address').show(5, truncate=False)"
   ]
  },
  {
   "cell_type": "code",
   "execution_count": 116,
   "id": "8d756bff",
   "metadata": {},
   "outputs": [
    {
     "name": "stdout",
     "output_type": "stream",
     "text": [
      "22/10/21 13:45:24 WARN TaskSetManager: Stage 89 contains a task of very large size (1653 KiB). The maximum recommended task size is 1000 KiB.\n",
      "+--------+\n",
      "|zip_code|\n",
      "+--------+\n",
      "|   78207|\n",
      "|   78223|\n",
      "|   78223|\n",
      "|   78223|\n",
      "|   78228|\n",
      "+--------+\n",
      "only showing top 5 rows\n",
      "\n"
     ]
    }
   ],
   "source": [
    "df.withColumn('zip_code',\n",
    "             regexp_extract('request_address', r'\\d+$', 0)).select('zip_code').show(5)"
   ]
  },
  {
   "cell_type": "code",
   "execution_count": 117,
   "id": "3688fc60",
   "metadata": {},
   "outputs": [],
   "source": [
    "df = df.withColumn('zip_code',\n",
    "             regexp_extract('request_address', r'\\d+$', 0))"
   ]
  },
  {
   "cell_type": "code",
   "execution_count": 121,
   "id": "91911182",
   "metadata": {},
   "outputs": [
    {
     "name": "stdout",
     "output_type": "stream",
     "text": [
      "22/10/21 13:46:26 WARN TaskSetManager: Stage 93 contains a task of very large size (1653 KiB). The maximum recommended task size is 1000 KiB.\n",
      "+-------------------------------------+--------+\n",
      "|request_address                      |zip_code|\n",
      "+-------------------------------------+--------+\n",
      "|2315  el paso st, san antonio, 78207 |78207   |\n",
      "|2215  goliad rd, san antonio, 78223  |78223   |\n",
      "|102  palfrey st w, san antonio, 78223|78223   |\n",
      "|114  la garde st, san antonio, 78223 |78223   |\n",
      "|734  clearview dr, san antonio, 78228|78228   |\n",
      "+-------------------------------------+--------+\n",
      "only showing top 5 rows\n",
      "\n"
     ]
    }
   ],
   "source": [
    "df.select('request_address','zip_code').show(5, truncate=False)"
   ]
  },
  {
   "cell_type": "markdown",
   "id": "e16b302f",
   "metadata": {},
   "source": [
    "#### create case_lifetime column"
   ]
  },
  {
   "cell_type": "markdown",
   "id": "29d43cc6",
   "metadata": {},
   "source": [
    "- case_age: how long since the case first opened\n",
    "- days_to_close: the number of days between days opened and days closed\n",
    "- case_lifetime: if the case is open, how long since the case opened, if the case is closed, the number of days to close\n"
   ]
  },
  {
   "cell_type": "code",
   "execution_count": 122,
   "id": "afa106ec",
   "metadata": {},
   "outputs": [
    {
     "name": "stdout",
     "output_type": "stream",
     "text": [
      "22/10/21 13:47:37 WARN TaskSetManager: Stage 94 contains a task of very large size (1653 KiB). The maximum recommended task size is 1000 KiB.\n",
      "-RECORD 0------------------------------------\n",
      " case_id              | 1014127332           \n",
      " case_opened_date     | 2018-01-01 00:42:00  \n",
      " case_closed_date     | 2018-01-01 12:29:00  \n",
      " case_due_date        | 2020-09-26 00:42:00  \n",
      " case_late            | false                \n",
      " num_days_late        | -998.5087616         \n",
      " case_closed          | true                 \n",
      " dept_division        | Field Operations     \n",
      " service_request_type | Stray Animal         \n",
      " SLA_days             | 999.0                \n",
      " case_status          | Closed               \n",
      " source_id            | svcCRMLS             \n",
      " request_address      | 2315  el paso st,... \n",
      " council_district     | 005                  \n",
      " num_weeks_late       | -142.6441088         \n",
      " zip_code             | 78207                \n",
      "only showing top 1 row\n",
      "\n"
     ]
    }
   ],
   "source": [
    "df.show(1, vertical=True)"
   ]
  },
  {
   "cell_type": "code",
   "execution_count": 123,
   "id": "d4e87176",
   "metadata": {},
   "outputs": [
    {
     "data": {
      "text/plain": [
       "Column<'current_timestamp()'>"
      ]
     },
     "execution_count": 123,
     "metadata": {},
     "output_type": "execute_result"
    }
   ],
   "source": [
    "current_timestamp()"
   ]
  },
  {
   "cell_type": "code",
   "execution_count": 125,
   "id": "9cba2737",
   "metadata": {},
   "outputs": [
    {
     "name": "stdout",
     "output_type": "stream",
     "text": [
      "22/10/21 13:49:10 WARN TaskSetManager: Stage 96 contains a task of very large size (1653 KiB). The maximum recommended task size is 1000 KiB.\n",
      "+--------------------------+\n",
      "|current_timestamp()       |\n",
      "+--------------------------+\n",
      "|2022-10-21 13:49:10.474479|\n",
      "+--------------------------+\n",
      "only showing top 1 row\n",
      "\n"
     ]
    }
   ],
   "source": [
    "df.select(current_timestamp()).show(1, truncate=False)"
   ]
  },
  {
   "cell_type": "code",
   "execution_count": 129,
   "id": "87f3203e",
   "metadata": {},
   "outputs": [],
   "source": [
    "#use datediff() to find the difference between two dates\n",
    "df = df.withColumn('case_age', \n",
    "             datediff(current_timestamp(), 'case_opened_date'))"
   ]
  },
  {
   "cell_type": "code",
   "execution_count": 131,
   "id": "7d0eb750",
   "metadata": {},
   "outputs": [
    {
     "name": "stdout",
     "output_type": "stream",
     "text": [
      "22/10/21 13:50:56 WARN TaskSetManager: Stage 99 contains a task of very large size (1653 KiB). The maximum recommended task size is 1000 KiB.\n",
      "+-------------------+--------+\n",
      "|   case_opened_date|case_age|\n",
      "+-------------------+--------+\n",
      "|2018-01-01 00:42:00|    1754|\n",
      "|2018-01-01 00:46:00|    1754|\n",
      "|2018-01-01 00:48:00|    1754|\n",
      "|2018-01-01 01:29:00|    1754|\n",
      "|2018-01-01 01:34:00|    1754|\n",
      "+-------------------+--------+\n",
      "only showing top 5 rows\n",
      "\n"
     ]
    }
   ],
   "source": [
    "df.select('case_opened_date','case_age').show(5)"
   ]
  },
  {
   "cell_type": "code",
   "execution_count": 132,
   "id": "0730ed15",
   "metadata": {},
   "outputs": [],
   "source": [
    "#create days_to_close\n",
    "df = df.withColumn('days_to_close', \n",
    "             datediff('case_closed_date', 'case_opened_date'))"
   ]
  },
  {
   "cell_type": "code",
   "execution_count": 134,
   "id": "ebf409e5",
   "metadata": {},
   "outputs": [
    {
     "name": "stdout",
     "output_type": "stream",
     "text": [
      "22/10/21 13:52:17 WARN TaskSetManager: Stage 101 contains a task of very large size (1653 KiB). The maximum recommended task size is 1000 KiB.\n",
      "+-------------------+-------------------+-------------+\n",
      "|   case_closed_date|   case_opened_date|days_to_close|\n",
      "+-------------------+-------------------+-------------+\n",
      "|2018-01-01 12:29:00|2018-01-01 00:42:00|            0|\n",
      "|2018-01-03 08:11:00|2018-01-01 00:46:00|            2|\n",
      "|2018-01-02 07:57:00|2018-01-01 00:48:00|            1|\n",
      "|2018-01-02 08:13:00|2018-01-01 01:29:00|            1|\n",
      "|2018-01-01 13:29:00|2018-01-01 01:34:00|            0|\n",
      "+-------------------+-------------------+-------------+\n",
      "only showing top 5 rows\n",
      "\n"
     ]
    }
   ],
   "source": [
    "df.select('case_closed_date', 'case_opened_date', 'days_to_close').show(5)"
   ]
  },
  {
   "cell_type": "code",
   "execution_count": 140,
   "id": "adbeed81",
   "metadata": {},
   "outputs": [
    {
     "name": "stdout",
     "output_type": "stream",
     "text": [
      "22/10/21 13:54:12 WARN TaskSetManager: Stage 105 contains a task of very large size (1653 KiB). The maximum recommended task size is 1000 KiB.\n",
      "+-----------+-------------------+-------------------+-------------+--------+\n",
      "|case_closed|   case_opened_date|   case_closed_date|days_to_close|case_age|\n",
      "+-----------+-------------------+-------------------+-------------+--------+\n",
      "|       true|2018-01-01 00:42:00|2018-01-01 12:29:00|            0|    1754|\n",
      "|       true|2018-01-01 00:46:00|2018-01-03 08:11:00|            2|    1754|\n",
      "|       true|2018-01-01 00:48:00|2018-01-02 07:57:00|            1|    1754|\n",
      "|       true|2018-01-01 01:29:00|2018-01-02 08:13:00|            1|    1754|\n",
      "|       true|2018-01-01 01:34:00|2018-01-01 13:29:00|            0|    1754|\n",
      "+-----------+-------------------+-------------------+-------------+--------+\n",
      "only showing top 5 rows\n",
      "\n"
     ]
    }
   ],
   "source": [
    "#look at new columns for cases that were closed\n",
    "df.select('case_closed',\n",
    "          'case_opened_date', \n",
    "            'case_closed_date', \n",
    "          'days_to_close',\n",
    "          'case_age'\n",
    "         ).where('case_closed == true').show(5)"
   ]
  },
  {
   "cell_type": "code",
   "execution_count": 141,
   "id": "4e387c9d",
   "metadata": {},
   "outputs": [
    {
     "name": "stdout",
     "output_type": "stream",
     "text": [
      "22/10/21 13:54:23 WARN TaskSetManager: Stage 106 contains a task of very large size (1653 KiB). The maximum recommended task size is 1000 KiB.\n",
      "+-----------+-------------------+----------------+-------------+--------+\n",
      "|case_closed|   case_opened_date|case_closed_date|days_to_close|case_age|\n",
      "+-----------+-------------------+----------------+-------------+--------+\n",
      "|      false|2018-01-02 09:39:00|            null|         null|    1753|\n",
      "|      false|2018-01-02 10:49:00|            null|         null|    1753|\n",
      "|      false|2018-01-02 13:45:00|            null|         null|    1753|\n",
      "|      false|2018-01-02 14:09:00|            null|         null|    1753|\n",
      "|      false|2018-01-02 14:34:00|            null|         null|    1753|\n",
      "+-----------+-------------------+----------------+-------------+--------+\n",
      "only showing top 5 rows\n",
      "\n"
     ]
    }
   ],
   "source": [
    "#look at new columns for cases that were NOT closed\n",
    "df.select('case_closed',\n",
    "          'case_opened_date', \n",
    "            'case_closed_date', \n",
    "          'days_to_close',\n",
    "          'case_age'\n",
    "         ).where('case_closed == false').show(5)"
   ]
  },
  {
   "cell_type": "code",
   "execution_count": 145,
   "id": "732677de",
   "metadata": {},
   "outputs": [],
   "source": [
    "#create case_lifetime column\n",
    "df = df.withColumn('case_lifetime', \n",
    "             when(expr('! case_closed'),col('case_age'))\n",
    "              .otherwise(col('days_to_close'))\n",
    "             )"
   ]
  },
  {
   "cell_type": "code",
   "execution_count": 148,
   "id": "7b6bde5f",
   "metadata": {},
   "outputs": [
    {
     "name": "stdout",
     "output_type": "stream",
     "text": [
      "22/10/21 13:57:40 WARN TaskSetManager: Stage 109 contains a task of very large size (1653 KiB). The maximum recommended task size is 1000 KiB.\n",
      "+-----------+-------------------+-------------------+-------------+--------+-------------+\n",
      "|case_closed|   case_opened_date|   case_closed_date|days_to_close|case_age|case_lifetime|\n",
      "+-----------+-------------------+-------------------+-------------+--------+-------------+\n",
      "|       true|2018-01-01 00:42:00|2018-01-01 12:29:00|            0|    1754|            0|\n",
      "|       true|2018-01-01 00:46:00|2018-01-03 08:11:00|            2|    1754|            2|\n",
      "|       true|2018-01-01 00:48:00|2018-01-02 07:57:00|            1|    1754|            1|\n",
      "|       true|2018-01-01 01:29:00|2018-01-02 08:13:00|            1|    1754|            1|\n",
      "|       true|2018-01-01 01:34:00|2018-01-01 13:29:00|            0|    1754|            0|\n",
      "+-----------+-------------------+-------------------+-------------+--------+-------------+\n",
      "only showing top 5 rows\n",
      "\n"
     ]
    }
   ],
   "source": [
    "df.select('case_closed',\n",
    "          'case_opened_date', \n",
    "            'case_closed_date', \n",
    "          'days_to_close',\n",
    "          'case_age',\n",
    "          'case_lifetime'\n",
    "         ).where('case_closed == true').show(5)"
   ]
  },
  {
   "cell_type": "code",
   "execution_count": 149,
   "id": "ebaeef4e",
   "metadata": {},
   "outputs": [
    {
     "name": "stdout",
     "output_type": "stream",
     "text": [
      "22/10/21 13:57:56 WARN TaskSetManager: Stage 110 contains a task of very large size (1653 KiB). The maximum recommended task size is 1000 KiB.\n",
      "+-----------+-------------------+----------------+-------------+--------+-------------+\n",
      "|case_closed|   case_opened_date|case_closed_date|days_to_close|case_age|case_lifetime|\n",
      "+-----------+-------------------+----------------+-------------+--------+-------------+\n",
      "|      false|2018-01-02 09:39:00|            null|         null|    1753|         1753|\n",
      "|      false|2018-01-02 10:49:00|            null|         null|    1753|         1753|\n",
      "|      false|2018-01-02 13:45:00|            null|         null|    1753|         1753|\n",
      "|      false|2018-01-02 14:09:00|            null|         null|    1753|         1753|\n",
      "|      false|2018-01-02 14:34:00|            null|         null|    1753|         1753|\n",
      "+-----------+-------------------+----------------+-------------+--------+-------------+\n",
      "only showing top 5 rows\n",
      "\n"
     ]
    }
   ],
   "source": [
    "df.select('case_closed',\n",
    "          'case_opened_date', \n",
    "            'case_closed_date', \n",
    "          'days_to_close',\n",
    "          'case_age',\n",
    "          'case_lifetime'\n",
    "         ).where('case_closed == false').show(5)"
   ]
  },
  {
   "cell_type": "code",
   "execution_count": 151,
   "id": "22524bf3",
   "metadata": {},
   "outputs": [],
   "source": [
    "#drop unnecessary columns\n",
    "df = df.drop('case_age', 'days_to_close')"
   ]
  },
  {
   "cell_type": "code",
   "execution_count": 152,
   "id": "9cb016e2",
   "metadata": {},
   "outputs": [
    {
     "data": {
      "text/plain": [
       "['case_id',\n",
       " 'case_opened_date',\n",
       " 'case_closed_date',\n",
       " 'case_due_date',\n",
       " 'case_late',\n",
       " 'num_days_late',\n",
       " 'case_closed',\n",
       " 'dept_division',\n",
       " 'service_request_type',\n",
       " 'SLA_days',\n",
       " 'case_status',\n",
       " 'source_id',\n",
       " 'request_address',\n",
       " 'council_district',\n",
       " 'num_weeks_late',\n",
       " 'zip_code',\n",
       " 'case_lifetime']"
      ]
     },
     "execution_count": 152,
     "metadata": {},
     "output_type": "execute_result"
    }
   ],
   "source": [
    "df.columns"
   ]
  },
  {
   "cell_type": "markdown",
   "id": "638518f0",
   "metadata": {},
   "source": [
    "### join the dept table from sql to our current df"
   ]
  },
  {
   "cell_type": "code",
   "execution_count": 153,
   "id": "83bb0fe8",
   "metadata": {},
   "outputs": [
    {
     "name": "stdout",
     "output_type": "stream",
     "text": [
      "22/10/21 13:59:52 WARN TaskSetManager: Stage 111 contains a task of very large size (1653 KiB). The maximum recommended task size is 1000 KiB.\n",
      "+----------------+\n",
      "|   dept_division|\n",
      "+----------------+\n",
      "|Field Operations|\n",
      "|     Storm Water|\n",
      "|     Storm Water|\n",
      "|Code Enforcement|\n",
      "|Field Operations|\n",
      "+----------------+\n",
      "only showing top 5 rows\n",
      "\n"
     ]
    }
   ],
   "source": [
    "df.select('dept_division').show(5)"
   ]
  },
  {
   "cell_type": "code",
   "execution_count": 155,
   "id": "f1de22ad",
   "metadata": {},
   "outputs": [
    {
     "data": {
      "text/plain": [
       "DataFrame[dept_division: string, dept_name: string, standardized_dept_name: string, dept_subject_to_SLA: string]"
      ]
     },
     "execution_count": 155,
     "metadata": {},
     "output_type": "execute_result"
    }
   ],
   "source": [
    "#get dept table from sql\n",
    "query = 'select * from dept'\n",
    "dept = pd.read_sql(query, url)\n",
    "dept = spark.createDataFrame(dept)\n",
    "dept"
   ]
  },
  {
   "cell_type": "code",
   "execution_count": 157,
   "id": "a8944d01",
   "metadata": {},
   "outputs": [
    {
     "name": "stdout",
     "output_type": "stream",
     "text": [
      "+--------------------+--------------------+----------------------+-------------------+\n",
      "|       dept_division|           dept_name|standardized_dept_name|dept_subject_to_SLA|\n",
      "+--------------------+--------------------+----------------------+-------------------+\n",
      "|     311 Call Center|    Customer Service|      Customer Service|                YES|\n",
      "|               Brush|Solid Waste Manag...|           Solid Waste|                YES|\n",
      "|     Clean and Green|Parks and Recreation|    Parks & Recreation|                YES|\n",
      "|Clean and Green N...|Parks and Recreation|    Parks & Recreation|                YES|\n",
      "|    Code Enforcement|Code Enforcement ...|  DSD/Code Enforcement|                YES|\n",
      "+--------------------+--------------------+----------------------+-------------------+\n",
      "only showing top 5 rows\n",
      "\n"
     ]
    }
   ],
   "source": [
    "dept.show(5)"
   ]
  },
  {
   "cell_type": "code",
   "execution_count": 159,
   "id": "036972e0",
   "metadata": {},
   "outputs": [],
   "source": [
    "#join tables\n",
    "df = df.join(dept,\n",
    "        'dept_division',\n",
    "        'left')"
   ]
  },
  {
   "cell_type": "code",
   "execution_count": 160,
   "id": "adf7e1b3",
   "metadata": {},
   "outputs": [
    {
     "name": "stdout",
     "output_type": "stream",
     "text": [
      "22/10/21 14:02:14 WARN TaskSetManager: Stage 114 contains a task of very large size (1653 KiB). The maximum recommended task size is 1000 KiB.\n"
     ]
    },
    {
     "name": "stderr",
     "output_type": "stream",
     "text": [
      "[Stage 114:==================================================>     (9 + 1) / 10]\r"
     ]
    },
    {
     "name": "stdout",
     "output_type": "stream",
     "text": [
      "22/10/21 14:02:18 WARN PythonRunner: Detected deadlock while completing task 3.0 in stage 114 (TID 248): Attempting to kill Python Worker\n",
      "-RECORD 0--------------------------------------\n",
      " dept_division          | Field Operations     \n",
      " case_id                | 1014127332           \n",
      " case_opened_date       | 2018-01-01 00:42:00  \n",
      " case_closed_date       | 2018-01-01 12:29:00  \n",
      " case_due_date          | 2020-09-26 00:42:00  \n",
      " case_late              | false                \n",
      " num_days_late          | -998.5087616         \n",
      " case_closed            | true                 \n",
      " service_request_type   | Stray Animal         \n",
      " SLA_days               | 999.0                \n",
      " case_status            | Closed               \n",
      " source_id              | svcCRMLS             \n",
      " request_address        | 2315  el paso st,... \n",
      " council_district       | 005                  \n",
      " num_weeks_late         | -142.6441088         \n",
      " zip_code               | 78207                \n",
      " case_lifetime          | 0                    \n",
      " dept_name              | Animal Care Services \n",
      " standardized_dept_name | Animal Care Services \n",
      " dept_subject_to_SLA    | YES                  \n",
      "only showing top 1 row\n",
      "\n"
     ]
    },
    {
     "name": "stderr",
     "output_type": "stream",
     "text": [
      "\r",
      "                                                                                \r"
     ]
    }
   ],
   "source": [
    "df.show(1, vertical=True)"
   ]
  },
  {
   "cell_type": "code",
   "execution_count": 171,
   "id": "df5c3a11",
   "metadata": {},
   "outputs": [],
   "source": [
    "df = df.drop('dept_division','dept_name')"
   ]
  },
  {
   "cell_type": "code",
   "execution_count": 172,
   "id": "247e864a",
   "metadata": {},
   "outputs": [
    {
     "name": "stdout",
     "output_type": "stream",
     "text": [
      "22/10/21 14:06:17 WARN TaskSetManager: Stage 153 contains a task of very large size (1653 KiB). The maximum recommended task size is 1000 KiB.\n"
     ]
    },
    {
     "name": "stderr",
     "output_type": "stream",
     "text": [
      "\r",
      "[Stage 153:==================================================>     (9 + 1) / 10]\r"
     ]
    },
    {
     "name": "stdout",
     "output_type": "stream",
     "text": [
      "22/10/21 14:06:22 WARN PythonRunner: Detected deadlock while completing task 6.0 in stage 153 (TID 384): Attempting to kill Python Worker\n",
      "-RECORD 0--------------------------------------\n",
      " case_id                | 1014127332           \n",
      " case_opened_date       | 2018-01-01 00:42:00  \n",
      " case_closed_date       | 2018-01-01 12:29:00  \n",
      " case_due_date          | 2020-09-26 00:42:00  \n",
      " case_late              | false                \n",
      " num_days_late          | -998.5087616         \n",
      " case_closed            | true                 \n",
      " service_request_type   | Stray Animal         \n",
      " SLA_days               | 999.0                \n",
      " case_status            | Closed               \n",
      " source_id              | svcCRMLS             \n",
      " request_address        | 2315  el paso st,... \n",
      " council_district       | 005                  \n",
      " num_weeks_late         | -142.6441088         \n",
      " zip_code               | 78207                \n",
      " case_lifetime          | 0                    \n",
      " standardized_dept_name | Animal Care Services \n",
      " dept_subject_to_SLA    | true                 \n",
      "only showing top 1 row\n",
      "\n"
     ]
    },
    {
     "name": "stderr",
     "output_type": "stream",
     "text": [
      "\r",
      "                                                                                \r"
     ]
    }
   ],
   "source": [
    "df.show(1, vertical=True)"
   ]
  },
  {
   "cell_type": "code",
   "execution_count": 164,
   "id": "5d31d575",
   "metadata": {},
   "outputs": [
    {
     "name": "stdout",
     "output_type": "stream",
     "text": [
      "22/10/21 14:03:40 WARN TaskSetManager: Stage 126 contains a task of very large size (1653 KiB). The maximum recommended task size is 1000 KiB.\n"
     ]
    },
    {
     "name": "stderr",
     "output_type": "stream",
     "text": [
      "                                                                                \r"
     ]
    },
    {
     "name": "stdout",
     "output_type": "stream",
     "text": [
      "+-------------------+\n",
      "|dept_subject_to_SLA|\n",
      "+-------------------+\n",
      "|                YES|\n",
      "|                 NO|\n",
      "+-------------------+\n",
      "\n"
     ]
    }
   ],
   "source": [
    "df.select('dept_subject_to_SLA').distinct().show()"
   ]
  },
  {
   "cell_type": "code",
   "execution_count": 173,
   "id": "065e89f5",
   "metadata": {},
   "outputs": [
    {
     "data": {
      "text/plain": [
       "[('case_id', 'bigint'),\n",
       " ('case_opened_date', 'timestamp'),\n",
       " ('case_closed_date', 'timestamp'),\n",
       " ('case_due_date', 'timestamp'),\n",
       " ('case_late', 'boolean'),\n",
       " ('num_days_late', 'double'),\n",
       " ('case_closed', 'boolean'),\n",
       " ('service_request_type', 'string'),\n",
       " ('SLA_days', 'double'),\n",
       " ('case_status', 'string'),\n",
       " ('source_id', 'string'),\n",
       " ('request_address', 'string'),\n",
       " ('council_district', 'string'),\n",
       " ('num_weeks_late', 'double'),\n",
       " ('zip_code', 'string'),\n",
       " ('case_lifetime', 'int'),\n",
       " ('standardized_dept_name', 'string'),\n",
       " ('dept_subject_to_SLA', 'boolean')]"
      ]
     },
     "execution_count": 173,
     "metadata": {},
     "output_type": "execute_result"
    }
   ],
   "source": [
    "df.dtypes"
   ]
  },
  {
   "cell_type": "code",
   "execution_count": 167,
   "id": "fa07899d",
   "metadata": {},
   "outputs": [],
   "source": [
    "df = df.withColumn('dept_subject_to_SLA', expr('dept_subject_to_SLA == \"YES\"'))"
   ]
  },
  {
   "cell_type": "code",
   "execution_count": 174,
   "id": "e449185b",
   "metadata": {},
   "outputs": [
    {
     "name": "stdout",
     "output_type": "stream",
     "text": [
      "22/10/21 14:06:29 WARN TaskSetManager: Stage 159 contains a task of very large size (1653 KiB). The maximum recommended task size is 1000 KiB.\n",
      "-RECORD 0--------------------------------------\n",
      " case_id                | 1014127332           \n",
      " case_opened_date       | 2018-01-01 00:42:00  \n",
      " case_closed_date       | 2018-01-01 12:29:00  \n",
      " case_due_date          | 2020-09-26 00:42:00  \n",
      " case_late              | false                \n",
      " num_days_late          | -998.5087616         \n",
      " case_closed            | true                 \n",
      " service_request_type   | Stray Animal         \n",
      " SLA_days               | 999.0                \n",
      " case_status            | Closed               \n",
      " source_id              | svcCRMLS             \n",
      " request_address        | 2315  el paso st,... \n",
      " council_district       | 005                  \n",
      " num_weeks_late         | -142.6441088         \n",
      " zip_code               | 78207                \n",
      " case_lifetime          | 0                    \n",
      " standardized_dept_name | Animal Care Services \n",
      " dept_subject_to_SLA    | true                 \n",
      "only showing top 1 row\n",
      "\n"
     ]
    }
   ],
   "source": [
    "df.show(1, vertical=True)"
   ]
  },
  {
   "cell_type": "code",
   "execution_count": 175,
   "id": "6de78710",
   "metadata": {},
   "outputs": [
    {
     "data": {
      "text/plain": [
       "[('case_id', 'bigint'),\n",
       " ('case_opened_date', 'timestamp'),\n",
       " ('case_closed_date', 'timestamp'),\n",
       " ('case_due_date', 'timestamp'),\n",
       " ('case_late', 'boolean'),\n",
       " ('num_days_late', 'double'),\n",
       " ('case_closed', 'boolean'),\n",
       " ('service_request_type', 'string'),\n",
       " ('SLA_days', 'double'),\n",
       " ('case_status', 'string'),\n",
       " ('source_id', 'string'),\n",
       " ('request_address', 'string'),\n",
       " ('council_district', 'string'),\n",
       " ('num_weeks_late', 'double'),\n",
       " ('zip_code', 'string'),\n",
       " ('case_lifetime', 'int'),\n",
       " ('standardized_dept_name', 'string'),\n",
       " ('dept_subject_to_SLA', 'boolean')]"
      ]
     },
     "execution_count": 175,
     "metadata": {},
     "output_type": "execute_result"
    }
   ],
   "source": [
    "df.dtypes"
   ]
  },
  {
   "cell_type": "markdown",
   "id": "f904326a",
   "metadata": {},
   "source": [
    "### train, validate, test split"
   ]
  },
  {
   "cell_type": "markdown",
   "id": "f8f04c04",
   "metadata": {},
   "source": [
    "- `.randomSplit` to split df"
   ]
  },
  {
   "cell_type": "code",
   "execution_count": 176,
   "id": "cd453133",
   "metadata": {},
   "outputs": [
    {
     "name": "stdout",
     "output_type": "stream",
     "text": [
      "22/10/21 14:06:57 WARN TaskSetManager: Stage 165 contains a task of very large size (1653 KiB). The maximum recommended task size is 1000 KiB.\n"
     ]
    },
    {
     "name": "stderr",
     "output_type": "stream",
     "text": [
      "                                                                                \r"
     ]
    },
    {
     "data": {
      "text/plain": [
       "100000"
      ]
     },
     "execution_count": 176,
     "metadata": {},
     "output_type": "execute_result"
    }
   ],
   "source": [
    "df.count()"
   ]
  },
  {
   "cell_type": "code",
   "execution_count": 178,
   "id": "559bd721",
   "metadata": {},
   "outputs": [],
   "source": [
    "train, test = df.randomSplit([.8,.2], seed=123)"
   ]
  },
  {
   "cell_type": "code",
   "execution_count": 179,
   "id": "8eb9718c",
   "metadata": {},
   "outputs": [
    {
     "name": "stdout",
     "output_type": "stream",
     "text": [
      "22/10/21 14:07:44 WARN TaskSetManager: Stage 174 contains a task of very large size (1653 KiB). The maximum recommended task size is 1000 KiB.\n"
     ]
    },
    {
     "name": "stderr",
     "output_type": "stream",
     "text": [
      "                                                                                \r"
     ]
    },
    {
     "name": "stdout",
     "output_type": "stream",
     "text": [
      "22/10/21 14:07:48 WARN TaskSetManager: Stage 183 contains a task of very large size (1653 KiB). The maximum recommended task size is 1000 KiB.\n"
     ]
    },
    {
     "name": "stderr",
     "output_type": "stream",
     "text": [
      "                                                                                \r"
     ]
    },
    {
     "data": {
      "text/plain": [
       "(80131, 19869)"
      ]
     },
     "execution_count": 179,
     "metadata": {},
     "output_type": "execute_result"
    }
   ],
   "source": [
    "train.count(), test.count()"
   ]
  },
  {
   "cell_type": "code",
   "execution_count": 184,
   "id": "88e90bba",
   "metadata": {},
   "outputs": [],
   "source": [
    "train, validate, test = df.randomSplit([.6,.2,.2], seed=123)"
   ]
  },
  {
   "cell_type": "code",
   "execution_count": 183,
   "id": "00dc542b",
   "metadata": {},
   "outputs": [
    {
     "name": "stdout",
     "output_type": "stream",
     "text": [
      "22/10/21 14:09:26 WARN TaskSetManager: Stage 219 contains a task of very large size (1653 KiB). The maximum recommended task size is 1000 KiB.\n"
     ]
    },
    {
     "name": "stderr",
     "output_type": "stream",
     "text": [
      "                                                                                \r"
     ]
    },
    {
     "name": "stdout",
     "output_type": "stream",
     "text": [
      "22/10/21 14:09:28 WARN TaskSetManager: Stage 228 contains a task of very large size (1653 KiB). The maximum recommended task size is 1000 KiB.\n"
     ]
    },
    {
     "name": "stderr",
     "output_type": "stream",
     "text": [
      "                                                                                \r"
     ]
    },
    {
     "name": "stdout",
     "output_type": "stream",
     "text": [
      "22/10/21 14:09:30 WARN TaskSetManager: Stage 237 contains a task of very large size (1653 KiB). The maximum recommended task size is 1000 KiB.\n"
     ]
    },
    {
     "name": "stderr",
     "output_type": "stream",
     "text": [
      "                                                                                \r"
     ]
    },
    {
     "data": {
      "text/plain": [
       "(60118, 20013, 19869)"
      ]
     },
     "execution_count": 183,
     "metadata": {},
     "output_type": "execute_result"
    }
   ],
   "source": [
    "train.count(), validate.count(), test.count()"
   ]
  },
  {
   "cell_type": "code",
   "execution_count": null,
   "id": "f4f08570",
   "metadata": {},
   "outputs": [],
   "source": []
  }
 ],
 "metadata": {
  "kernelspec": {
   "display_name": "Python 3 (ipykernel)",
   "language": "python",
   "name": "python3"
  },
  "language_info": {
   "codemirror_mode": {
    "name": "ipython",
    "version": 3
   },
   "file_extension": ".py",
   "mimetype": "text/x-python",
   "name": "python",
   "nbconvert_exporter": "python",
   "pygments_lexer": "ipython3",
   "version": "3.9.12"
  }
 },
 "nbformat": 4,
 "nbformat_minor": 5
}
