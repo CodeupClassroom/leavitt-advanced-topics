{
 "cells": [
  {
   "cell_type": "code",
   "execution_count": 9,
   "id": "039f7a28",
   "metadata": {},
   "outputs": [],
   "source": [
    "import pandas as pd\n",
    "import numpy as np\n",
    "\n",
    "from pyspark.sql import SparkSession\n",
    "from pyspark.sql.functions import *\n",
    "\n",
    "from env import get_db_url\n",
    "import os"
   ]
  },
  {
   "cell_type": "markdown",
   "id": "3edb66f2",
   "metadata": {},
   "source": [
    "## This exercises use the cases, dept, and source tables from the 311_data on the Codeup MySQL server."
   ]
  },
  {
   "cell_type": "code",
   "execution_count": 4,
   "id": "8a332a94",
   "metadata": {},
   "outputs": [],
   "source": [
    "#create session\n",
    "spark = SparkSession.builder.getOrCreate()"
   ]
  },
  {
   "cell_type": "markdown",
   "id": "69cb3f84",
   "metadata": {},
   "source": [
    "### Read the case, department, and source data into their own spark dataframes."
   ]
  },
  {
   "cell_type": "code",
   "execution_count": 5,
   "id": "08354d3e",
   "metadata": {},
   "outputs": [],
   "source": [
    "url = get_db_url('311_data')"
   ]
  },
  {
   "cell_type": "code",
   "execution_count": 6,
   "id": "346c6884",
   "metadata": {},
   "outputs": [
    {
     "data": {
      "text/plain": [
       "DataFrame[index: bigint, source_id: string, source_username: string]"
      ]
     },
     "execution_count": 6,
     "metadata": {},
     "output_type": "execute_result"
    }
   ],
   "source": [
    "query = 'select * from source'\n",
    "source = pd.read_sql(query, url)\n",
    "source = spark.createDataFrame(source)\n",
    "source"
   ]
  },
  {
   "cell_type": "code",
   "execution_count": 7,
   "id": "c92dd021",
   "metadata": {},
   "outputs": [
    {
     "data": {
      "text/plain": [
       "DataFrame[case_id: bigint, case_opened_date: string, case_closed_date: string, SLA_due_date: string, case_late: string, num_days_late: double, case_closed: string, dept_division: string, service_request_type: string, SLA_days: double, case_status: string, source_id: string, request_address: string, council_district: bigint]"
      ]
     },
     "execution_count": 7,
     "metadata": {},
     "output_type": "execute_result"
    }
   ],
   "source": [
    "query = 'select * from cases'\n",
    "df = pd.read_sql(query, url)\n",
    "df = spark.createDataFrame(df)\n",
    "df"
   ]
  },
  {
   "cell_type": "code",
   "execution_count": 8,
   "id": "75e28b56",
   "metadata": {},
   "outputs": [
    {
     "data": {
      "text/plain": [
       "DataFrame[dept_division: string, dept_name: string, standardized_dept_name: string, dept_subject_to_SLA: string]"
      ]
     },
     "execution_count": 8,
     "metadata": {},
     "output_type": "execute_result"
    }
   ],
   "source": [
    "query = 'select * from dept'\n",
    "dept = pd.read_sql(query, url)\n",
    "dept = spark.createDataFrame(dept)\n",
    "dept"
   ]
  },
  {
   "cell_type": "markdown",
   "id": "461d8154",
   "metadata": {},
   "source": [
    "### Let's see how writing to the local disk works in spark:"
   ]
  },
  {
   "cell_type": "markdown",
   "id": "6e819887",
   "metadata": {},
   "source": [
    "### Write the code necessary to store the source data in both csv and json format, store these as sources_csv and sources_json"
   ]
  },
  {
   "cell_type": "code",
   "execution_count": 15,
   "id": "db1b3d2d",
   "metadata": {},
   "outputs": [
    {
     "name": "stderr",
     "output_type": "stream",
     "text": [
      "                                                                                \r"
     ]
    }
   ],
   "source": [
    "source.write.json('data/sources_json', mode='overwrite')"
   ]
  },
  {
   "cell_type": "code",
   "execution_count": 16,
   "id": "e343c30e",
   "metadata": {},
   "outputs": [
    {
     "name": "stderr",
     "output_type": "stream",
     "text": [
      "                                                                                \r"
     ]
    }
   ],
   "source": [
    "source.write.csv('data/sources_csv', mode='overwrite')"
   ]
  },
  {
   "cell_type": "markdown",
   "id": "b3faa508",
   "metadata": {},
   "source": [
    "### Inspect your folder structure. What do you notice?"
   ]
  },
  {
   "cell_type": "code",
   "execution_count": 17,
   "id": "975a3203",
   "metadata": {},
   "outputs": [
    {
     "data": {
      "text/plain": [
       "['.part-00004-d09d2390-d556-46d9-90ee-ceebc2af6078-c000.csv.crc',\n",
       " 'part-00008-d09d2390-d556-46d9-90ee-ceebc2af6078-c000.csv',\n",
       " '.part-00005-d09d2390-d556-46d9-90ee-ceebc2af6078-c000.csv.crc',\n",
       " 'part-00004-d09d2390-d556-46d9-90ee-ceebc2af6078-c000.csv',\n",
       " '.part-00007-d09d2390-d556-46d9-90ee-ceebc2af6078-c000.csv.crc',\n",
       " 'part-00009-d09d2390-d556-46d9-90ee-ceebc2af6078-c000.csv',\n",
       " 'part-00005-d09d2390-d556-46d9-90ee-ceebc2af6078-c000.csv',\n",
       " '.part-00006-d09d2390-d556-46d9-90ee-ceebc2af6078-c000.csv.crc',\n",
       " '._SUCCESS.crc',\n",
       " 'part-00006-d09d2390-d556-46d9-90ee-ceebc2af6078-c000.csv',\n",
       " '.part-00009-d09d2390-d556-46d9-90ee-ceebc2af6078-c000.csv.crc',\n",
       " 'part-00007-d09d2390-d556-46d9-90ee-ceebc2af6078-c000.csv',\n",
       " '.part-00008-d09d2390-d556-46d9-90ee-ceebc2af6078-c000.csv.crc',\n",
       " 'part-00000-d09d2390-d556-46d9-90ee-ceebc2af6078-c000.csv',\n",
       " 'part-00001-d09d2390-d556-46d9-90ee-ceebc2af6078-c000.csv',\n",
       " 'part-00002-d09d2390-d556-46d9-90ee-ceebc2af6078-c000.csv',\n",
       " '.part-00001-d09d2390-d556-46d9-90ee-ceebc2af6078-c000.csv.crc',\n",
       " '_SUCCESS',\n",
       " '.part-00000-d09d2390-d556-46d9-90ee-ceebc2af6078-c000.csv.crc',\n",
       " 'part-00003-d09d2390-d556-46d9-90ee-ceebc2af6078-c000.csv',\n",
       " '.part-00002-d09d2390-d556-46d9-90ee-ceebc2af6078-c000.csv.crc',\n",
       " '.part-00003-d09d2390-d556-46d9-90ee-ceebc2af6078-c000.csv.crc']"
      ]
     },
     "execution_count": 17,
     "metadata": {},
     "output_type": "execute_result"
    }
   ],
   "source": [
    "os.listdir('data/sources_csv')"
   ]
  },
  {
   "cell_type": "markdown",
   "id": "128ffc8f",
   "metadata": {},
   "source": [
    "### Inspect the data in your dataframes. Are the data types appropriate? Write the code necessary to cast the values to the appropriate types."
   ]
  },
  {
   "cell_type": "code",
   "execution_count": 20,
   "id": "e38ea31c",
   "metadata": {},
   "outputs": [
    {
     "data": {
      "text/plain": [
       "[('case_id', 'bigint'),\n",
       " ('case_opened_date', 'timestamp'),\n",
       " ('case_closed_date', 'timestamp'),\n",
       " ('case_due_date', 'timestamp'),\n",
       " ('case_late', 'boolean'),\n",
       " ('num_days_late', 'double'),\n",
       " ('case_closed', 'boolean'),\n",
       " ('dept_division', 'string'),\n",
       " ('service_request_type', 'string'),\n",
       " ('SLA_days', 'double'),\n",
       " ('case_status', 'string'),\n",
       " ('source_id', 'string'),\n",
       " ('request_address', 'string'),\n",
       " ('council_district', 'string')]"
      ]
     },
     "execution_count": 20,
     "metadata": {},
     "output_type": "execute_result"
    }
   ],
   "source": [
    "df.dtypes"
   ]
  },
  {
   "cell_type": "code",
   "execution_count": 21,
   "id": "8cb76495",
   "metadata": {},
   "outputs": [],
   "source": [
    "# Rename column\n",
    "df = df.withColumnRenamed('SLA_due_date', 'case_due_date')"
   ]
  },
  {
   "cell_type": "code",
   "execution_count": 23,
   "id": "84070c90",
   "metadata": {},
   "outputs": [],
   "source": [
    "# Convert to better data types\n",
    "df = (\n",
    "    df.withColumn('case_late', col('case_late') == 'YES')\n",
    "    .withColumn('case_closed', col('case_closed') == 'YES')\n",
    ")\n",
    "\n",
    "df = df.withColumn('council_district', format_string('%03d', col('council_district')))\n",
    "\n",
    "fmt = 'M/d/yy H:mm'\n",
    "df = (\n",
    "    df.withColumn('case_opened_date', to_timestamp(col('case_opened_date'), fmt))\n",
    "    .withColumn('case_closed_date', to_timestamp(col('case_closed_date'), fmt))\n",
    "    .withColumn('case_due_date', to_timestamp(col('case_due_date'), fmt))\n",
    ")"
   ]
  },
  {
   "cell_type": "code",
   "execution_count": 24,
   "id": "5cee3e41",
   "metadata": {},
   "outputs": [],
   "source": [
    "# Cleanup text data\n",
    "df = df.withColumn('request_address', lower(trim(col('request_address'))))"
   ]
  },
  {
   "cell_type": "code",
   "execution_count": 25,
   "id": "c92cceda",
   "metadata": {},
   "outputs": [],
   "source": [
    "# Extract zipcode\n",
    "df = df.withColumn('zipcode', regexp_extract(col('request_address'), r'\\d+$', 0))\n",
    "\n",
    "# Create a `case_lifetime` feature\n",
    "df = (\n",
    "    df.withColumn('case_age', datediff(current_timestamp(), 'case_opened_date'))\n",
    "    .withColumn('days_to_closed', datediff('case_closed_date', 'case_opened_date'))\n",
    "    .withColumn('case_lifetime', when(\n",
    "        col('case_closed'), col('days_to_closed')).otherwise(col('case_age')))\n",
    "    .drop('case_age', 'days_to_closed')\n",
    ")"
   ]
  },
  {
   "cell_type": "markdown",
   "id": "567c6236",
   "metadata": {},
   "source": [
    "### How old is the latest (in terms of days past SLA) currently open issue? "
   ]
  },
  {
   "cell_type": "code",
   "execution_count": 26,
   "id": "89fd4a96",
   "metadata": {},
   "outputs": [
    {
     "data": {
      "text/plain": [
       "['case_id',\n",
       " 'case_opened_date',\n",
       " 'case_closed_date',\n",
       " 'case_due_date',\n",
       " 'case_late',\n",
       " 'num_days_late',\n",
       " 'case_closed',\n",
       " 'dept_division',\n",
       " 'service_request_type',\n",
       " 'SLA_days',\n",
       " 'case_status',\n",
       " 'source_id',\n",
       " 'request_address',\n",
       " 'council_district',\n",
       " 'zipcode',\n",
       " 'case_lifetime']"
      ]
     },
     "execution_count": 26,
     "metadata": {},
     "output_type": "execute_result"
    }
   ],
   "source": [
    "df.columns"
   ]
  },
  {
   "cell_type": "code",
   "execution_count": 40,
   "id": "9e2f897f",
   "metadata": {},
   "outputs": [
    {
     "name": "stdout",
     "output_type": "stream",
     "text": [
      "22/10/24 09:29:59 WARN TaskSetManager: Stage 13 contains a task of very large size (15174 KiB). The maximum recommended task size is 1000 KiB.\n"
     ]
    },
    {
     "name": "stderr",
     "output_type": "stream",
     "text": [
      "\r",
      "[Stage 13:>                                                       (0 + 10) / 10]\r"
     ]
    },
    {
     "name": "stdout",
     "output_type": "stream",
     "text": [
      "+-----------+-------------+------------------+\n",
      "|case_closed|case_lifetime|     num_days_late|\n",
      "+-----------+-------------+------------------+\n",
      "|      false|         2122|       348.6458333|\n",
      "|      false|         2122|       348.6458333|\n",
      "|      false|         2121|348.52356480000003|\n",
      "|      false|         2120|347.58256939999995|\n",
      "|      false|         2118|       345.3894213|\n",
      "+-----------+-------------+------------------+\n",
      "only showing top 5 rows\n",
      "\n"
     ]
    },
    {
     "name": "stderr",
     "output_type": "stream",
     "text": [
      "\r",
      "                                                                                \r"
     ]
    }
   ],
   "source": [
    "(\n",
    "    df.select('case_closed', 'case_lifetime', 'num_days_late')   \n",
    "    .filter('! case_closed')\n",
    "    .sort(desc('num_days_late'))\n",
    "    .where('num_days_late != \"nan\"')\n",
    ").show(5)"
   ]
  },
  {
   "cell_type": "markdown",
   "id": "2875c4af",
   "metadata": {},
   "source": [
    "### How long has the oldest (in terms of days since opened) currently opened issue been open?"
   ]
  },
  {
   "cell_type": "code",
   "execution_count": 42,
   "id": "41f0828a",
   "metadata": {},
   "outputs": [
    {
     "name": "stdout",
     "output_type": "stream",
     "text": [
      "22/10/24 09:31:25 WARN TaskSetManager: Stage 15 contains a task of very large size (15174 KiB). The maximum recommended task size is 1000 KiB.\n",
      "+-----------+-------------+------------------+\n",
      "|case_closed|case_lifetime|     num_days_late|\n",
      "+-----------+-------------+------------------+\n",
      "|      false|         2122|       348.6458333|\n",
      "|      false|         2122|       348.6458333|\n",
      "|      false|         2121|348.52356480000003|\n",
      "|      false|         2120|347.58256939999995|\n",
      "|      false|         2118|       345.3894213|\n",
      "+-----------+-------------+------------------+\n",
      "only showing top 5 rows\n",
      "\n"
     ]
    },
    {
     "name": "stderr",
     "output_type": "stream",
     "text": [
      "\r",
      "[Stage 15:>                                                       (0 + 10) / 10]\r",
      "\r",
      "                                                                                \r"
     ]
    }
   ],
   "source": [
    "(\n",
    "    df.select('case_closed', 'case_lifetime', 'num_days_late')   \n",
    "    .filter('! case_closed')\n",
    "    .sort(desc('num_days_late'))\n",
    "    .where('num_days_late != \"nan\"')\n",
    ").show(5)"
   ]
  },
  {
   "cell_type": "markdown",
   "id": "bb3210f3",
   "metadata": {},
   "source": [
    "### How many Stray Animal cases are there?"
   ]
  },
  {
   "cell_type": "code",
   "execution_count": 44,
   "id": "2b342402",
   "metadata": {},
   "outputs": [
    {
     "data": {
      "text/plain": [
       "['case_id',\n",
       " 'case_opened_date',\n",
       " 'case_closed_date',\n",
       " 'case_due_date',\n",
       " 'case_late',\n",
       " 'num_days_late',\n",
       " 'case_closed',\n",
       " 'dept_division',\n",
       " 'service_request_type',\n",
       " 'SLA_days',\n",
       " 'case_status',\n",
       " 'source_id',\n",
       " 'request_address',\n",
       " 'council_district',\n",
       " 'zipcode',\n",
       " 'case_lifetime']"
      ]
     },
     "execution_count": 44,
     "metadata": {},
     "output_type": "execute_result"
    }
   ],
   "source": [
    "df.columns"
   ]
  },
  {
   "cell_type": "code",
   "execution_count": 47,
   "id": "5c159efd",
   "metadata": {},
   "outputs": [
    {
     "name": "stdout",
     "output_type": "stream",
     "text": [
      "22/10/24 09:32:20 WARN TaskSetManager: Stage 20 contains a task of very large size (15174 KiB). The maximum recommended task size is 1000 KiB.\n"
     ]
    },
    {
     "name": "stderr",
     "output_type": "stream",
     "text": [
      "\r",
      "[Stage 20:>                                                       (0 + 10) / 10]\r"
     ]
    },
    {
     "name": "stdout",
     "output_type": "stream",
     "text": [
      "+--------------------+\n",
      "|service_request_type|\n",
      "+--------------------+\n",
      "|Minimum Housing-O...|\n",
      "|        Tree Removal|\n",
      "| Service Information|\n",
      "|    Sign Maintenance|\n",
      "|Park Building Mai...|\n",
      "|Brush Property Da...|\n",
      "|Vacant Lot-Privat...|\n",
      "|Graffiti: Private...|\n",
      "|Traffic Sign Graf...|\n",
      "|License Renewal I...|\n",
      "|Guardrail- New Re...|\n",
      "|   Sewer Line Broken|\n",
      "|Zoning: Multi-Fam...|\n",
      "|Engineering Inves...|\n",
      "|    Zoning: Setbacks|\n",
      "|  Traffic Sign Faded|\n",
      "|     Permits, Fences|\n",
      "|Certificates of O...|\n",
      "|  Dead Animal - Misc|\n",
      "|Garage Sales No P...|\n",
      "+--------------------+\n",
      "only showing top 20 rows\n",
      "\n"
     ]
    },
    {
     "name": "stderr",
     "output_type": "stream",
     "text": [
      "\r",
      "                                                                                \r"
     ]
    }
   ],
   "source": [
    "df.select('service_request_type').distinct().show()"
   ]
  },
  {
   "cell_type": "code",
   "execution_count": 52,
   "id": "e465ddb1",
   "metadata": {},
   "outputs": [
    {
     "name": "stdout",
     "output_type": "stream",
     "text": [
      "22/10/24 09:33:47 WARN TaskSetManager: Stage 26 contains a task of very large size (15174 KiB). The maximum recommended task size is 1000 KiB.\n"
     ]
    },
    {
     "name": "stderr",
     "output_type": "stream",
     "text": [
      "                                                                                \r"
     ]
    },
    {
     "data": {
      "text/plain": [
       "26760"
      ]
     },
     "execution_count": 52,
     "metadata": {},
     "output_type": "execute_result"
    }
   ],
   "source": [
    "df.filter(expr('service_request_type == \"Stray Animal\"')).count()"
   ]
  },
  {
   "cell_type": "markdown",
   "id": "a685d209",
   "metadata": {},
   "source": [
    "### How many service requests that are assigned to the Field Operations department (dept_division) are not classified as \"Officer Standby\" request type (service_request_type)?"
   ]
  },
  {
   "cell_type": "code",
   "execution_count": 53,
   "id": "4eedaa89",
   "metadata": {},
   "outputs": [
    {
     "data": {
      "text/plain": [
       "['case_id',\n",
       " 'case_opened_date',\n",
       " 'case_closed_date',\n",
       " 'case_due_date',\n",
       " 'case_late',\n",
       " 'num_days_late',\n",
       " 'case_closed',\n",
       " 'dept_division',\n",
       " 'service_request_type',\n",
       " 'SLA_days',\n",
       " 'case_status',\n",
       " 'source_id',\n",
       " 'request_address',\n",
       " 'council_district',\n",
       " 'zipcode',\n",
       " 'case_lifetime']"
      ]
     },
     "execution_count": 53,
     "metadata": {},
     "output_type": "execute_result"
    }
   ],
   "source": [
    "df.columns"
   ]
  },
  {
   "cell_type": "code",
   "execution_count": 54,
   "id": "02a7aba6",
   "metadata": {},
   "outputs": [
    {
     "name": "stdout",
     "output_type": "stream",
     "text": [
      "22/10/24 09:36:13 WARN TaskSetManager: Stage 29 contains a task of very large size (15174 KiB). The maximum recommended task size is 1000 KiB.\n"
     ]
    },
    {
     "name": "stderr",
     "output_type": "stream",
     "text": [
      "                                                                                \r"
     ]
    },
    {
     "data": {
      "text/plain": [
       "113902"
      ]
     },
     "execution_count": 54,
     "metadata": {},
     "output_type": "execute_result"
    }
   ],
   "source": [
    "(\n",
    "    df.filter(df.dept_division == 'Field Operations')\n",
    "    .filter(df.service_request_type != 'Officer Standby')\n",
    ").count()"
   ]
  },
  {
   "cell_type": "markdown",
   "id": "4df2e698",
   "metadata": {},
   "source": [
    "### Convert the council_district column to a string column."
   ]
  },
  {
   "cell_type": "code",
   "execution_count": 55,
   "id": "cee1f2df",
   "metadata": {},
   "outputs": [
    {
     "data": {
      "text/plain": [
       "[('case_id', 'bigint'),\n",
       " ('case_opened_date', 'timestamp'),\n",
       " ('case_closed_date', 'timestamp'),\n",
       " ('case_due_date', 'timestamp'),\n",
       " ('case_late', 'boolean'),\n",
       " ('num_days_late', 'double'),\n",
       " ('case_closed', 'boolean'),\n",
       " ('dept_division', 'string'),\n",
       " ('service_request_type', 'string'),\n",
       " ('SLA_days', 'double'),\n",
       " ('case_status', 'string'),\n",
       " ('source_id', 'string'),\n",
       " ('request_address', 'string'),\n",
       " ('council_district', 'string'),\n",
       " ('zipcode', 'string'),\n",
       " ('case_lifetime', 'int')]"
      ]
     },
     "execution_count": 55,
     "metadata": {},
     "output_type": "execute_result"
    }
   ],
   "source": [
    "df.dtypes"
   ]
  },
  {
   "cell_type": "markdown",
   "id": "12e59940",
   "metadata": {},
   "source": [
    "### Extract the year from the case_closed_date column."
   ]
  },
  {
   "cell_type": "code",
   "execution_count": 57,
   "id": "e32f74f7",
   "metadata": {},
   "outputs": [
    {
     "name": "stdout",
     "output_type": "stream",
     "text": [
      "22/10/24 09:37:01 WARN TaskSetManager: Stage 33 contains a task of very large size (15174 KiB). The maximum recommended task size is 1000 KiB.\n"
     ]
    },
    {
     "name": "stderr",
     "output_type": "stream",
     "text": [
      "\r",
      "[Stage 33:>                                                         (0 + 1) / 1]\r"
     ]
    },
    {
     "name": "stdout",
     "output_type": "stream",
     "text": [
      "22/10/24 09:37:05 WARN PythonRunner: Detected deadlock while completing task 0.0 in stage 33 (TID 182): Attempting to kill Python Worker\n",
      "+-------------------+\n",
      "|   case_closed_date|\n",
      "+-------------------+\n",
      "|2018-01-01 12:29:00|\n",
      "|2018-01-03 08:11:00|\n",
      "|2018-01-02 07:57:00|\n",
      "|2018-01-02 08:13:00|\n",
      "|2018-01-01 13:29:00|\n",
      "+-------------------+\n",
      "only showing top 5 rows\n",
      "\n"
     ]
    },
    {
     "name": "stderr",
     "output_type": "stream",
     "text": [
      "\r",
      "                                                                                \r"
     ]
    }
   ],
   "source": [
    "df.select('case_closed_date').show(5)"
   ]
  },
  {
   "cell_type": "code",
   "execution_count": 61,
   "id": "c3b82420",
   "metadata": {},
   "outputs": [],
   "source": [
    "df = df.withColumn('case_closed_year',\n",
    "             year('case_closed_date'))\n",
    "# .select('case_closed_date','case_closed_year').show(5)"
   ]
  },
  {
   "cell_type": "code",
   "execution_count": 62,
   "id": "97577c03",
   "metadata": {},
   "outputs": [
    {
     "name": "stdout",
     "output_type": "stream",
     "text": [
      "22/10/24 09:38:29 WARN TaskSetManager: Stage 35 contains a task of very large size (15174 KiB). The maximum recommended task size is 1000 KiB.\n"
     ]
    },
    {
     "name": "stderr",
     "output_type": "stream",
     "text": [
      "\r",
      "[Stage 35:>                                                         (0 + 1) / 1]\r"
     ]
    },
    {
     "name": "stdout",
     "output_type": "stream",
     "text": [
      "22/10/24 09:38:33 WARN PythonRunner: Detected deadlock while completing task 0.0 in stage 35 (TID 184): Attempting to kill Python Worker\n",
      "+-------------------+----------------+\n",
      "|   case_closed_date|case_closed_year|\n",
      "+-------------------+----------------+\n",
      "|2018-01-01 12:29:00|            2018|\n",
      "|2018-01-03 08:11:00|            2018|\n",
      "|2018-01-02 07:57:00|            2018|\n",
      "|2018-01-02 08:13:00|            2018|\n",
      "|2018-01-01 13:29:00|            2018|\n",
      "+-------------------+----------------+\n",
      "only showing top 5 rows\n",
      "\n"
     ]
    },
    {
     "name": "stderr",
     "output_type": "stream",
     "text": [
      "\r",
      "                                                                                \r"
     ]
    }
   ],
   "source": [
    "df.select('case_closed_date','case_closed_year').show(5)"
   ]
  },
  {
   "cell_type": "markdown",
   "id": "4f3cd313",
   "metadata": {},
   "source": [
    "### Convert num_days_late from days to hours in new columns num_hours_late."
   ]
  },
  {
   "cell_type": "code",
   "execution_count": 64,
   "id": "ddce9a39",
   "metadata": {},
   "outputs": [],
   "source": [
    "df = df.withColumn('num_hours_late',\n",
    "             expr('num_days_late * 24'))"
   ]
  },
  {
   "cell_type": "code",
   "execution_count": 67,
   "id": "28ea4119",
   "metadata": {},
   "outputs": [
    {
     "name": "stdout",
     "output_type": "stream",
     "text": [
      "22/10/24 09:39:35 WARN TaskSetManager: Stage 36 contains a task of very large size (15174 KiB). The maximum recommended task size is 1000 KiB.\n"
     ]
    },
    {
     "name": "stderr",
     "output_type": "stream",
     "text": [
      "\r",
      "[Stage 36:>                                                         (0 + 1) / 1]\r"
     ]
    },
    {
     "name": "stdout",
     "output_type": "stream",
     "text": [
      "22/10/24 09:39:39 WARN PythonRunner: Detected deadlock while completing task 0.0 in stage 36 (TID 185): Attempting to kill Python Worker\n",
      "+-------------+-------------------+\n",
      "|num_days_late|     num_hours_late|\n",
      "+-------------+-------------------+\n",
      "| -998.5087616|-23964.210278399998|\n",
      "| -2.012604167|      -48.302500008|\n",
      "| -3.022337963|      -72.536111112|\n",
      "| -15.01148148|      -360.27555552|\n",
      "|  0.372164352|        8.931944448|\n",
      "+-------------+-------------------+\n",
      "only showing top 5 rows\n",
      "\n"
     ]
    },
    {
     "name": "stderr",
     "output_type": "stream",
     "text": [
      "\r",
      "                                                                                \r"
     ]
    }
   ],
   "source": [
    "df.select('num_days_late', 'num_hours_late').show(5)"
   ]
  },
  {
   "cell_type": "markdown",
   "id": "e9ec503a",
   "metadata": {},
   "source": [
    "### Join the case data with the source and department data."
   ]
  },
  {
   "cell_type": "code",
   "execution_count": 71,
   "id": "3a01d379",
   "metadata": {},
   "outputs": [
    {
     "data": {
      "text/plain": [
       "['case_id',\n",
       " 'case_opened_date',\n",
       " 'case_closed_date',\n",
       " 'case_due_date',\n",
       " 'case_late',\n",
       " 'num_days_late',\n",
       " 'case_closed',\n",
       " 'dept_division',\n",
       " 'service_request_type',\n",
       " 'SLA_days',\n",
       " 'case_status',\n",
       " 'source_id',\n",
       " 'request_address',\n",
       " 'council_district',\n",
       " 'zipcode',\n",
       " 'case_lifetime',\n",
       " 'case_closed_year',\n",
       " 'num_hours_late']"
      ]
     },
     "execution_count": 71,
     "metadata": {},
     "output_type": "execute_result"
    }
   ],
   "source": [
    "df.columns"
   ]
  },
  {
   "cell_type": "code",
   "execution_count": 72,
   "id": "2a3da991",
   "metadata": {},
   "outputs": [
    {
     "data": {
      "text/plain": [
       "['index', 'source_id', 'source_username']"
      ]
     },
     "execution_count": 72,
     "metadata": {},
     "output_type": "execute_result"
    }
   ],
   "source": [
    "source.columns"
   ]
  },
  {
   "cell_type": "code",
   "execution_count": 73,
   "id": "10302ba7",
   "metadata": {},
   "outputs": [
    {
     "data": {
      "text/plain": [
       "['dept_division', 'dept_name', 'standardized_dept_name', 'dept_subject_to_SLA']"
      ]
     },
     "execution_count": 73,
     "metadata": {},
     "output_type": "execute_result"
    }
   ],
   "source": [
    "dept.columns"
   ]
  },
  {
   "cell_type": "code",
   "execution_count": 76,
   "id": "61bbc7f6",
   "metadata": {},
   "outputs": [],
   "source": [
    "df = df.join(dept,\n",
    "        'dept_division',\n",
    "       'left').join(source,\n",
    "                   'source_id',\n",
    "                   'left')"
   ]
  },
  {
   "cell_type": "code",
   "execution_count": 77,
   "id": "06e9b44b",
   "metadata": {},
   "outputs": [
    {
     "data": {
      "text/plain": [
       "['source_id',\n",
       " 'dept_division',\n",
       " 'case_id',\n",
       " 'case_opened_date',\n",
       " 'case_closed_date',\n",
       " 'case_due_date',\n",
       " 'case_late',\n",
       " 'num_days_late',\n",
       " 'case_closed',\n",
       " 'service_request_type',\n",
       " 'SLA_days',\n",
       " 'case_status',\n",
       " 'request_address',\n",
       " 'council_district',\n",
       " 'zipcode',\n",
       " 'case_lifetime',\n",
       " 'case_closed_year',\n",
       " 'num_hours_late',\n",
       " 'dept_name',\n",
       " 'standardized_dept_name',\n",
       " 'dept_subject_to_SLA',\n",
       " 'index',\n",
       " 'source_username']"
      ]
     },
     "execution_count": 77,
     "metadata": {},
     "output_type": "execute_result"
    }
   ],
   "source": [
    "df.columns"
   ]
  },
  {
   "cell_type": "markdown",
   "id": "878fe58e",
   "metadata": {},
   "source": [
    "### Are there any cases that do not have a request source?"
   ]
  },
  {
   "cell_type": "code",
   "execution_count": 81,
   "id": "d12e41d2",
   "metadata": {},
   "outputs": [
    {
     "name": "stdout",
     "output_type": "stream",
     "text": [
      "22/10/24 09:49:34 WARN TaskSetManager: Stage 61 contains a task of very large size (15174 KiB). The maximum recommended task size is 1000 KiB.\n"
     ]
    },
    {
     "name": "stderr",
     "output_type": "stream",
     "text": [
      "                                                                                \r"
     ]
    },
    {
     "data": {
      "text/plain": [
       "0"
      ]
     },
     "execution_count": 81,
     "metadata": {},
     "output_type": "execute_result"
    }
   ],
   "source": [
    "df.filter(expr('index is null')).count()"
   ]
  },
  {
   "cell_type": "markdown",
   "id": "74e76636",
   "metadata": {},
   "source": [
    "### What are the top 10 service request types in terms of number of requests?"
   ]
  },
  {
   "cell_type": "code",
   "execution_count": 87,
   "id": "1c17b037",
   "metadata": {},
   "outputs": [
    {
     "name": "stdout",
     "output_type": "stream",
     "text": [
      "22/10/24 09:51:12 WARN TaskSetManager: Stage 100 contains a task of very large size (15174 KiB). The maximum recommended task size is 1000 KiB.\n"
     ]
    },
    {
     "name": "stderr",
     "output_type": "stream",
     "text": [
      "                                                                                \r"
     ]
    },
    {
     "name": "stdout",
     "output_type": "stream",
     "text": [
      "+--------------------+-----+\n",
      "|service_request_type|count|\n",
      "+--------------------+-----+\n",
      "|           No Pickup|89210|\n",
      "|Overgrown Yard/Trash|66403|\n",
      "|        Bandit Signs|32968|\n",
      "|        Damaged Cart|31163|\n",
      "|Front Or Side Yar...|28920|\n",
      "|        Stray Animal|27361|\n",
      "|Aggressive Animal...|25492|\n",
      "|Cart Exchange Req...|22608|\n",
      "|Junk Vehicle On P...|21649|\n",
      "|     Pot Hole Repair|20827|\n",
      "+--------------------+-----+\n",
      "only showing top 10 rows\n",
      "\n"
     ]
    }
   ],
   "source": [
    "(\n",
    "    df.groupby('service_request_type').count()\n",
    "    .sort(desc('count'))\n",
    ").show(10)"
   ]
  },
  {
   "cell_type": "markdown",
   "id": "ab30f579",
   "metadata": {},
   "source": [
    "### What are the top 10 service request types in terms of average days late?"
   ]
  },
  {
   "cell_type": "code",
   "execution_count": 107,
   "id": "882b0e59",
   "metadata": {},
   "outputs": [
    {
     "name": "stdout",
     "output_type": "stream",
     "text": [
      "22/10/24 09:59:18 WARN TaskSetManager: Stage 261 contains a task of very large size (15174 KiB). The maximum recommended task size is 1000 KiB.\n"
     ]
    },
    {
     "name": "stderr",
     "output_type": "stream",
     "text": [
      "                                                                                \r"
     ]
    },
    {
     "name": "stdout",
     "output_type": "stream",
     "text": [
      "+--------------------------------------+--------------+\n",
      "|service_request_type                  |mean_days_late|\n",
      "+--------------------------------------+--------------+\n",
      "|Zoning: Junk Yards                    |175.96        |\n",
      "|Labeling for Used Mattress            |162.43        |\n",
      "|Record Keeping of Used Mattresses     |154.0         |\n",
      "|Signage Requied for Sale of Used Mattr|151.64        |\n",
      "|Storage of Used Mattress              |142.11        |\n",
      "|Zoning: Recycle Yard                  |135.93        |\n",
      "|Donation Container Enforcement        |131.76        |\n",
      "|License Requied Used Mattress Sales   |128.8         |\n",
      "|Traffic Signal Graffiti               |101.8         |\n",
      "|Complaint                             |72.87         |\n",
      "+--------------------------------------+--------------+\n",
      "only showing top 10 rows\n",
      "\n"
     ]
    },
    {
     "name": "stderr",
     "output_type": "stream",
     "text": [
      "\r",
      "[Stage 242:============================================>           (8 + 2) / 10]\r"
     ]
    }
   ],
   "source": [
    "(\n",
    "    df.groupby('service_request_type')\n",
    "    .agg(round(mean('num_days_late'), 2).alias('mean_days_late'))\n",
    "    .sort(desc('mean_days_late'))\n",
    "    .na.drop()\n",
    ").show(10, truncate=False)"
   ]
  },
  {
   "cell_type": "code",
   "execution_count": 111,
   "id": "7c23c35e",
   "metadata": {},
   "outputs": [
    {
     "name": "stdout",
     "output_type": "stream",
     "text": [
      "22/10/24 10:00:09 WARN TaskSetManager: Stage 300 contains a task of very large size (15174 KiB). The maximum recommended task size is 1000 KiB.\n"
     ]
    },
    {
     "name": "stderr",
     "output_type": "stream",
     "text": [
      "[Stage 297:>               (0 + 1) / 10][Stage 300:==============> (9 + 1) / 10]\r"
     ]
    },
    {
     "name": "stdout",
     "output_type": "stream",
     "text": [
      "22/10/24 10:00:11 WARN PythonRunner: Detected deadlock while completing task 4.0 in stage 297 (TID 1050): Attempting to kill Python Worker\n",
      "22/10/24 10:00:11 WARN TaskSetManager: Lost task 4.0 in stage 297.0 (TID 1050) (mistygarciasmbp executor driver): TaskKilled (Stage cancelled)\n"
     ]
    },
    {
     "name": "stderr",
     "output_type": "stream",
     "text": [
      "\r",
      "                                                                                \r"
     ]
    },
    {
     "name": "stdout",
     "output_type": "stream",
     "text": [
      "+--------------------------------------+------------------+\n",
      "|service_request_type                  |test              |\n",
      "+--------------------------------------+------------------+\n",
      "|Zoning: Junk Yards                    |175.95636210420943|\n",
      "|Labeling for Used Mattress            |162.43032902285717|\n",
      "|Record Keeping of Used Mattresses     |153.9972403942857 |\n",
      "|Signage Requied for Sale of Used Mattr|151.63868055333333|\n",
      "|Storage of Used Mattress              |142.11255641500003|\n",
      "|Zoning: Recycle Yard                  |135.92851612479797|\n",
      "|Donation Container Enforcement        |131.75610506358709|\n",
      "|License Requied Used Mattress Sales   |128.79828704142858|\n",
      "|Complaint                             |72.87050230311687 |\n",
      "|Vendors                               |66.54809898507798 |\n",
      "+--------------------------------------+------------------+\n",
      "only showing top 10 rows\n",
      "\n"
     ]
    }
   ],
   "source": [
    "(\n",
    "    df.groupby('service_request_type')\n",
    "    .avg()\n",
    "    .sort(desc('avg(num_days_late)'))\n",
    "    .na.drop()\n",
    ").select('service_request_type', col('avg(num_days_late)').alias('test'))\\\n",
    ".show(10, truncate=False)"
   ]
  },
  {
   "cell_type": "markdown",
   "id": "fa31c372",
   "metadata": {},
   "source": [
    "### Does number of days late depend on department?"
   ]
  },
  {
   "cell_type": "code",
   "execution_count": 112,
   "id": "cffa930f",
   "metadata": {},
   "outputs": [
    {
     "name": "stdout",
     "output_type": "stream",
     "text": [
      "22/10/24 10:01:06 WARN TaskSetManager: Stage 312 contains a task of very large size (15174 KiB). The maximum recommended task size is 1000 KiB.\n"
     ]
    },
    {
     "name": "stderr",
     "output_type": "stream",
     "text": [
      "                                                                                \r"
     ]
    },
    {
     "name": "stdout",
     "output_type": "stream",
     "text": [
      "+--------------------+-------------------+\n",
      "|           dept_name| avg(num_days_late)|\n",
      "+--------------------+-------------------+\n",
      "|Animal Care Services|-226.51783940550436|\n",
      "|                null| 135.92851612479797|\n",
      "|Solid Waste Manag...|-2.2000575136721845|\n",
      "|Development Services| 13.433724555869714|\n",
      "|Trans & Cap Impro...|  -20.6128373540527|\n",
      "|    Customer Service| 59.737091496300785|\n",
      "|        Metro Health| -4.911766979607001|\n",
      "|Parks and Recreation| -5.251521960055142|\n",
      "|Code Enforcement ...| -38.70133068329558|\n",
      "|        City Council|                NaN|\n",
      "+--------------------+-------------------+\n",
      "\n"
     ]
    }
   ],
   "source": [
    "(\n",
    "    df.groupby('dept_name')\n",
    "    .mean('num_days_late')\n",
    ").show()"
   ]
  },
  {
   "cell_type": "code",
   "execution_count": 113,
   "id": "2c89e67c",
   "metadata": {},
   "outputs": [
    {
     "name": "stdout",
     "output_type": "stream",
     "text": [
      "22/10/24 10:01:25 WARN TaskSetManager: Stage 324 contains a task of very large size (15174 KiB). The maximum recommended task size is 1000 KiB.\n"
     ]
    },
    {
     "name": "stderr",
     "output_type": "stream",
     "text": [
      "                                                                                \r"
     ]
    },
    {
     "data": {
      "text/plain": [
       "10"
      ]
     },
     "execution_count": 113,
     "metadata": {},
     "output_type": "execute_result"
    }
   ],
   "source": [
    "df.select('dept_name').distinct().count()"
   ]
  },
  {
   "cell_type": "markdown",
   "id": "15f75245",
   "metadata": {},
   "source": [
    "### How do number of days late depend on department and request type?"
   ]
  },
  {
   "cell_type": "code",
   "execution_count": 117,
   "id": "d1bda2c8",
   "metadata": {
    "scrolled": false
   },
   "outputs": [
    {
     "name": "stdout",
     "output_type": "stream",
     "text": [
      "22/10/24 10:04:10 WARN TaskSetManager: Stage 368 contains a task of very large size (15174 KiB). The maximum recommended task size is 1000 KiB.\n"
     ]
    },
    {
     "name": "stderr",
     "output_type": "stream",
     "text": [
      "                                                                                \r"
     ]
    },
    {
     "name": "stdout",
     "output_type": "stream",
     "text": [
      "+--------------------+--------------------+--------------------+\n",
      "|           dept_name|service_request_type|  avg(num_days_late)|\n",
      "+--------------------+--------------------+--------------------+\n",
      "|Solid Waste Manag...|1st Call Bagged L...| -3.8689919898581904|\n",
      "|Solid Waste Manag...|2nd Call Bagged L...|   -4.21210716234353|\n",
      "|Solid Waste Manag...|3rd Call Bagged L...|        -3.152896412|\n",
      "|Trans & Cap Impro...|ADA Infrastructur...|       -11.841508137|\n",
      "|Code Enforcement ...|    ADA Obstructions|        -13.22349537|\n",
      "|Code Enforcement ...|Absentee Property...| -14.231748829519532|\n",
      "|Trans & Cap Impro...|Accident Problem ...|  -22.97103045993122|\n",
      "|Solid Waste Manag...|Additional Cart R...|  -5.063509766847671|\n",
      "|Solid Waste Manag...|Additional Garbag...|  -2.920198210360159|\n",
      "|Solid Waste Manag...|Additional Organi...|  -5.997874052909091|\n",
      "|Animal Care Services|Aggressive Animal...|  16.696368811892242|\n",
      "|Animal Care Services|Aggressive Animal...|   2.645033883163259|\n",
      "|Trans & Cap Impro...|  All-Way Stop Study|  -35.85221697446667|\n",
      "|Code Enforcement ...|Alley Address Req...| -2.6345046288000002|\n",
      "|Solid Waste Manag...|      Alley Problems|   4.549660560465517|\n",
      "|Code Enforcement ...|Alley-Way Mainten...| -46.190590957069546|\n",
      "|Parks and Recreation|Amenity Park Impr...|    9.64126176872269|\n",
      "|Parks and Recreation|Amenity Park Impr...|        -5.411793981|\n",
      "|Animal Care Services|Animal Bite(Criti...|0.019096834813110194|\n",
      "|Animal Care Services|Animal Bite(Non-C...| -2.5056675479734483|\n",
      "+--------------------+--------------------+--------------------+\n",
      "only showing top 20 rows\n",
      "\n"
     ]
    }
   ],
   "source": [
    "(\n",
    "    df.groupby('dept_name', 'service_request_type')\n",
    "    .mean('num_days_late')\n",
    "    .sort('service_request_type')\n",
    ").show()"
   ]
  },
  {
   "cell_type": "code",
   "execution_count": null,
   "id": "5b658965",
   "metadata": {},
   "outputs": [],
   "source": []
  }
 ],
 "metadata": {
  "kernelspec": {
   "display_name": "Python 3 (ipykernel)",
   "language": "python",
   "name": "python3"
  },
  "language_info": {
   "codemirror_mode": {
    "name": "ipython",
    "version": 3
   },
   "file_extension": ".py",
   "mimetype": "text/x-python",
   "name": "python",
   "nbconvert_exporter": "python",
   "pygments_lexer": "ipython3",
   "version": "3.9.12"
  }
 },
 "nbformat": 4,
 "nbformat_minor": 5
}
